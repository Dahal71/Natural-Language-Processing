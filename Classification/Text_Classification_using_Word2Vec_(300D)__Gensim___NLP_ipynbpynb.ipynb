{
  "nbformat": 4,
  "nbformat_minor": 0,
  "metadata": {
    "colab": {
      "provenance": []
    },
    "kernelspec": {
      "name": "python3",
      "display_name": "Python 3"
    },
    "language_info": {
      "name": "python"
    }
  },
  "cells": [
    {
      "cell_type": "code",
      "execution_count": 1,
      "metadata": {
        "id": "RaMCQXdIgMcj"
      },
      "outputs": [],
      "source": [
        "import numpy as np\n",
        "import pandas as pd\n",
        "import matplotlib.pyplot as plt\n",
        "import seaborn as sns"
      ]
    },
    {
      "cell_type": "code",
      "source": [
        "import gensim"
      ],
      "metadata": {
        "id": "EwT9iUmcgVq1"
      },
      "execution_count": 2,
      "outputs": []
    },
    {
      "cell_type": "code",
      "source": [
        "gensim.__version__"
      ],
      "metadata": {
        "colab": {
          "base_uri": "https://localhost:8080/",
          "height": 35
        },
        "id": "f5nuF5_TgVsI",
        "outputId": "6acfbc5a-bc72-4456-b6a3-ce3ffc00cbf5"
      },
      "execution_count": 3,
      "outputs": [
        {
          "output_type": "execute_result",
          "data": {
            "text/plain": [
              "'3.6.0'"
            ],
            "application/vnd.google.colaboratory.intrinsic+json": {
              "type": "string"
            }
          },
          "metadata": {},
          "execution_count": 3
        }
      ]
    },
    {
      "cell_type": "code",
      "source": [
        "np.random.seed(42)"
      ],
      "metadata": {
        "id": "3dNZ42MtgVwk"
      },
      "execution_count": 4,
      "outputs": []
    },
    {
      "cell_type": "code",
      "source": [
        "from gensim.models.word2vec import Word2Vec"
      ],
      "metadata": {
        "id": "AcksMdh1gVyq"
      },
      "execution_count": 7,
      "outputs": []
    },
    {
      "cell_type": "markdown",
      "source": [
        "# Using pre-trained word_vector"
      ],
      "metadata": {
        "id": "N3jMQNTzhCwF"
      }
    },
    {
      "cell_type": "code",
      "source": [
        "# gensim has an api that we can download that has trained on huge data\n",
        "import gensim.downloader as api"
      ],
      "metadata": {
        "id": "JLPakUG6gV1w"
      },
      "execution_count": 8,
      "outputs": []
    },
    {
      "cell_type": "code",
      "source": [
        "print(gensim.downloader.info()[\"models\"].keys())"
      ],
      "metadata": {
        "colab": {
          "base_uri": "https://localhost:8080/"
        },
        "id": "ohwZkhHXgV3v",
        "outputId": "305bf31a-f257-4d30-b157-c2fc2820546e"
      },
      "execution_count": 10,
      "outputs": [
        {
          "output_type": "stream",
          "name": "stdout",
          "text": [
            "dict_keys(['fasttext-wiki-news-subwords-300', 'conceptnet-numberbatch-17-06-300', 'word2vec-ruscorpora-300', 'word2vec-google-news-300', 'glove-wiki-gigaword-50', 'glove-wiki-gigaword-100', 'glove-wiki-gigaword-200', 'glove-wiki-gigaword-300', 'glove-twitter-25', 'glove-twitter-50', 'glove-twitter-100', 'glove-twitter-200', '__testing_word2vec-matrix-synopsis'])\n"
          ]
        }
      ]
    },
    {
      "cell_type": "code",
      "source": [
        "wv = api.load(\"word2vec-google-news-300\")\n",
        "# this acts like a lookUp or dictionary i.e., when we pass any word it will retain a vector representation of that word\n",
        "     "
      ],
      "metadata": {
        "colab": {
          "base_uri": "https://localhost:8080/"
        },
        "id": "Gcqctfh5gV67",
        "outputId": "28ce2569-810e-49d4-a604-d7fc3503402b"
      },
      "execution_count": 11,
      "outputs": [
        {
          "output_type": "stream",
          "name": "stdout",
          "text": [
            "[==================================================] 100.0% 1662.8/1662.8MB downloaded\n"
          ]
        }
      ]
    },
    {
      "cell_type": "code",
      "source": [
        "#wv[\"apple\"]"
      ],
      "metadata": {
        "id": "SuGUOEG8gV9p"
      },
      "execution_count": 15,
      "outputs": []
    },
    {
      "cell_type": "code",
      "source": [
        "len(wv[\"apple\"])"
      ],
      "metadata": {
        "colab": {
          "base_uri": "https://localhost:8080/"
        },
        "id": "JZWJu4iIgWAJ",
        "outputId": "c7efca30-cf86-4411-e7e4-5f095d36d722"
      },
      "execution_count": 17,
      "outputs": [
        {
          "output_type": "execute_result",
          "data": {
            "text/plain": [
              "300"
            ]
          },
          "metadata": {},
          "execution_count": 17
        }
      ]
    },
    {
      "cell_type": "code",
      "source": [
        "# Checking few methods avaibale\n",
        "wv.similarity(\"apple\",\"mango\")"
      ],
      "metadata": {
        "colab": {
          "base_uri": "https://localhost:8080/"
        },
        "id": "XhrGggkcgWCN",
        "outputId": "e8983124-30fd-41e5-8dd0-63bc7cfe0d82"
      },
      "execution_count": 18,
      "outputs": [
        {
          "output_type": "execute_result",
          "data": {
            "text/plain": [
              "0.57518554"
            ]
          },
          "metadata": {},
          "execution_count": 18
        }
      ]
    },
    {
      "cell_type": "code",
      "source": [
        "wv.similarity(\"apple\",\"minivan\")"
      ],
      "metadata": {
        "colab": {
          "base_uri": "https://localhost:8080/"
        },
        "id": "ZdHiLLUbgWFy",
        "outputId": "588d9bee-3528-4593-b97a-d7d425310351"
      },
      "execution_count": 19,
      "outputs": [
        {
          "output_type": "execute_result",
          "data": {
            "text/plain": [
              "0.16333823"
            ]
          },
          "metadata": {},
          "execution_count": 19
        }
      ]
    },
    {
      "cell_type": "code",
      "source": [
        "# Checking similarity pairwise\n",
        "\n",
        "pairs = [\n",
        "    (\"car\",\"minivan\"),\n",
        "    (\"car\",\"cereal\"),\n",
        "    (\"car\", \"communism\"),\n",
        "    (\"car\",\"banana\")\n",
        "]"
      ],
      "metadata": {
        "id": "3dUTINzcgWIK"
      },
      "execution_count": 25,
      "outputs": []
    },
    {
      "cell_type": "code",
      "source": [
        "for w1, w2 in pairs:\n",
        "    print('%r\\t%r\\t%.2f' % (w1, w2, wv.similarity(w1, w2)))"
      ],
      "metadata": {
        "colab": {
          "base_uri": "https://localhost:8080/"
        },
        "id": "6fb86chOgWLU",
        "outputId": "694eb0ce-fd94-4564-fbd0-26c84b573c0e"
      },
      "execution_count": 27,
      "outputs": [
        {
          "output_type": "stream",
          "name": "stdout",
          "text": [
            "'car'\t'minivan'\t0.69\n",
            "'car'\t'cereal'\t0.14\n",
            "'car'\t'communism'\t0.06\n",
            "'car'\t'banana'\t0.11\n"
          ]
        }
      ]
    },
    {
      "cell_type": "code",
      "source": [
        "# top 5 most_similar words\n",
        "print(wv.most_similar(positive = [\"car\", \"minivan\"])[:5])"
      ],
      "metadata": {
        "colab": {
          "base_uri": "https://localhost:8080/"
        },
        "id": "_gxdkHSZlfhR",
        "outputId": "1e9e60e4-59c6-4809-bc60-9a0691896363"
      },
      "execution_count": 31,
      "outputs": [
        {
          "output_type": "stream",
          "name": "stdout",
          "text": [
            "[('SUV', 0.853219211101532), ('vehicle', 0.8175784349441528), ('pickup_truck', 0.7763689160346985), ('Jeep', 0.7567334175109863), ('Ford_Explorer', 0.756571888923645)]\n"
          ]
        }
      ]
    },
    {
      "cell_type": "code",
      "source": [
        "print(wv.most_similar(positive = [\"apple\", \"cereal\"])[:5])"
      ],
      "metadata": {
        "colab": {
          "base_uri": "https://localhost:8080/"
        },
        "id": "haKgdvE1gWNb",
        "outputId": "62b5b2db-7ecf-400b-e6a8-0b0f5d16c5f1"
      },
      "execution_count": 35,
      "outputs": [
        {
          "output_type": "stream",
          "name": "stdout",
          "text": [
            "[('potato', 0.6626662015914917), ('breakfast_cereal', 0.6482193470001221), ('apples', 0.6319440603256226), ('cereals', 0.6317809820175171), ('pear', 0.6248050332069397)]\n"
          ]
        }
      ]
    },
    {
      "cell_type": "code",
      "source": [
        "print(wv.doesnt_match([\"apple\", \"mango\", \"cereals\", \"strawberry\", \"orange\"]))"
      ],
      "metadata": {
        "colab": {
          "base_uri": "https://localhost:8080/"
        },
        "id": "_mddD9WRgWQn",
        "outputId": "e8a01cf1-3246-47dd-ae2c-b1e951674263"
      },
      "execution_count": 40,
      "outputs": [
        {
          "output_type": "stream",
          "name": "stdout",
          "text": [
            "cereals\n"
          ]
        }
      ]
    },
    {
      "cell_type": "markdown",
      "source": [
        "Semantic regularities captured in word embeddings"
      ],
      "metadata": {
        "id": "jO5DAC_NnD-Q"
      }
    },
    {
      "cell_type": "code",
      "source": [
        "print(wv.most_similar(positive = [\"woman\",\"king\"], negative = [\"man\"])[:5])"
      ],
      "metadata": {
        "colab": {
          "base_uri": "https://localhost:8080/"
        },
        "id": "cyfavlwCgWTE",
        "outputId": "68d674f0-b69c-4526-c11a-17a0d02359fa"
      },
      "execution_count": 41,
      "outputs": [
        {
          "output_type": "stream",
          "name": "stdout",
          "text": [
            "[('queen', 0.7118192911148071), ('monarch', 0.6189674139022827), ('princess', 0.5902431011199951), ('crown_prince', 0.5499460697174072), ('prince', 0.5377321243286133)]\n"
          ]
        }
      ]
    },
    {
      "cell_type": "code",
      "source": [
        "print(wv.most_similar(positive = [\"woman\", \"king\"])[:3])"
      ],
      "metadata": {
        "colab": {
          "base_uri": "https://localhost:8080/"
        },
        "id": "Ektgc5ZogWVe",
        "outputId": "1b6f9241-c868-4193-93f3-a2268ed77285"
      },
      "execution_count": 42,
      "outputs": [
        {
          "output_type": "stream",
          "name": "stdout",
          "text": [
            "[('man', 0.6628609895706177), ('queen', 0.6438563466072083), ('girl', 0.6136074662208557)]\n"
          ]
        }
      ]
    },
    {
      "cell_type": "markdown",
      "source": [
        "#Visualizing Word_Vector"
      ],
      "metadata": {
        "id": "8tJKuPXrnj8y"
      }
    },
    {
      "cell_type": "code",
      "source": [
        "words = [\"man\", \"woman\", \"car\", \"one\", \"two\"]"
      ],
      "metadata": {
        "id": "UiXrXy3LgWXF"
      },
      "execution_count": 48,
      "outputs": []
    },
    {
      "cell_type": "code",
      "source": [
        "sample_vectors = np.array([wv[word] for word in words])\n",
        "from sklearn.decomposition import PCA          # we use PCA as dimesionality reduction technique\n",
        "pca = PCA(n_components=2)      # we reduce 300 dimension to only 2\n",
        "result = pca.fit_transform(sample_vectors)\n",
        "result"
      ],
      "metadata": {
        "colab": {
          "base_uri": "https://localhost:8080/"
        },
        "id": "64O-i43Xnmwd",
        "outputId": "921dc163-43cc-40dc-f204-127582f8c12b"
      },
      "execution_count": 49,
      "outputs": [
        {
          "output_type": "execute_result",
          "data": {
            "text/plain": [
              "array([[ 1.1738676 , -0.27518362],\n",
              "       [ 1.5939608 , -0.01600524],\n",
              "       [-0.718368  ,  1.9807584 ],\n",
              "       [-0.8602772 , -0.722861  ],\n",
              "       [-1.1891832 , -0.96670866]], dtype=float32)"
            ]
          },
          "metadata": {},
          "execution_count": 49
        }
      ]
    },
    {
      "cell_type": "code",
      "source": [
        "plt.figure(figsize=(12,12))\n",
        "plt.scatter(result[:,0], result[:,1])\n",
        "for i, word in enumerate(words):\n",
        "    plt.annotate(word, xy=(result[i, 0], result[i, 1]))\n",
        "plt.show()"
      ],
      "metadata": {
        "colab": {
          "base_uri": "https://localhost:8080/",
          "height": 700
        },
        "id": "5gDtmvWTnmy0",
        "outputId": "dc3065fa-d3be-4d31-9e11-e8ee9111491a"
      },
      "execution_count": 50,
      "outputs": [
        {
          "output_type": "display_data",
          "data": {
            "text/plain": [
              "<Figure size 864x864 with 1 Axes>"
            ],
            "image/png": "[encoded data removed]"
          },
          "metadata": {
            "needs_background": "light"
          }
        }
      ]
    },
    {
      "cell_type": "markdown",
      "source": [
        "Here, we can see that even in 2 dimenion, vector_represenation has similar semantic in respect to the real real-world scenerio."
      ],
      "metadata": {
        "id": "Gh8afuXfo6dn"
      }
    },
    {
      "cell_type": "markdown",
      "source": [
        "# Building Classification Models using this vector representation model"
      ],
      "metadata": {
        "id": "0QeJ-HCWpDyB"
      }
    },
    {
      "cell_type": "code",
      "source": [
        "\n",
        "df = pd.read_csv(\"/content/train.csv\")"
      ],
      "metadata": {
        "id": "bmBYiVNFnm1h"
      },
      "execution_count": 52,
      "outputs": []
    },
    {
      "cell_type": "code",
      "source": [
        "df.head()"
      ],
      "metadata": {
        "colab": {
          "base_uri": "https://localhost:8080/",
          "height": 206
        },
        "id": "l2dh0-72nm3r",
        "outputId": "63b2a3d3-16cf-44f6-e601-a98328f5b143"
      },
      "execution_count": 53,
      "outputs": [
        {
          "output_type": "execute_result",
          "data": {
            "text/plain": [
              "                                        comment_text                id  \\\n",
              "0  explanation why the edits made under my userna...  0000997932d777bf   \n",
              "1  d aww  he matches this background colour i m s...  000103f0d9cfb60f   \n",
              "2  hey man  i m really not trying to edit war  it...  000113f07ec002fd   \n",
              "3    more i can t make any real suggestions on im...  0001b41b1c6bb37e   \n",
              "4  you  sir  are my hero  any chance you remember...  0001d958c54c6e35   \n",
              "\n",
              "   identity_hate  insult  obscene    set  severe_toxic  threat  toxic  \\\n",
              "0            0.0     0.0      0.0  train           0.0     0.0    0.0   \n",
              "1            0.0     0.0      0.0  train           0.0     0.0    0.0   \n",
              "2            0.0     0.0      0.0  train           0.0     0.0    0.0   \n",
              "3            0.0     0.0      0.0  train           0.0     0.0    0.0   \n",
              "4            0.0     0.0      0.0  train           0.0     0.0    0.0   \n",
              "\n",
              "   toxicity  \n",
              "0       0.0  \n",
              "1       0.0  \n",
              "2       0.0  \n",
              "3       0.0  \n",
              "4       0.0  "
            ],
            "text/html": [
              "\n",
              "  <div id=\"df-9a90c167-2ebd-4c9f-96a6-b7887737e8e4\">\n",
              "    <div class=\"colab-df-container\">\n",
              "      <div>\n",
              "<style scoped>\n",
              "    .dataframe tbody tr th:only-of-type {\n",
              "        vertical-align: middle;\n",
              "    }\n",
              "\n",
              "    .dataframe tbody tr th {\n",
              "        vertical-align: top;\n",
              "    }\n",
              "\n",
              "    .dataframe thead th {\n",
              "        text-align: right;\n",
              "    }\n",
              "</style>\n",
              "<table border=\"1\" class=\"dataframe\">\n",
              "  <thead>\n",
              "    <tr style=\"text-align: right;\">\n",
              "      <th></th>\n",
              "      <th>comment_text</th>\n",
              "      <th>id</th>\n",
              "      <th>identity_hate</th>\n",
              "      <th>insult</th>\n",
              "      <th>obscene</th>\n",
              "      <th>set</th>\n",
              "      <th>severe_toxic</th>\n",
              "      <th>threat</th>\n",
              "      <th>toxic</th>\n",
              "      <th>toxicity</th>\n",
              "    </tr>\n",
              "  </thead>\n",
              "  <tbody>\n",
              "    <tr>\n",
              "      <th>0</th>\n",
              "      <td>explanation why the edits made under my userna...</td>\n",
              "      <td>0000997932d777bf</td>\n",
              "      <td>0.0</td>\n",
              "      <td>0.0</td>\n",
              "      <td>0.0</td>\n",
              "      <td>train</td>\n",
              "      <td>0.0</td>\n",
              "      <td>0.0</td>\n",
              "      <td>0.0</td>\n",
              "      <td>0.0</td>\n",
              "    </tr>\n",
              "    <tr>\n",
              "      <th>1</th>\n",
              "      <td>d aww  he matches this background colour i m s...</td>\n",
              "      <td>000103f0d9cfb60f</td>\n",
              "      <td>0.0</td>\n",
              "      <td>0.0</td>\n",
              "      <td>0.0</td>\n",
              "      <td>train</td>\n",
              "      <td>0.0</td>\n",
              "      <td>0.0</td>\n",
              "      <td>0.0</td>\n",
              "      <td>0.0</td>\n",
              "    </tr>\n",
              "    <tr>\n",
              "      <th>2</th>\n",
              "      <td>hey man  i m really not trying to edit war  it...</td>\n",
              "      <td>000113f07ec002fd</td>\n",
              "      <td>0.0</td>\n",
              "      <td>0.0</td>\n",
              "      <td>0.0</td>\n",
              "      <td>train</td>\n",
              "      <td>0.0</td>\n",
              "      <td>0.0</td>\n",
              "      <td>0.0</td>\n",
              "      <td>0.0</td>\n",
              "    </tr>\n",
              "    <tr>\n",
              "      <th>3</th>\n",
              "      <td>more i can t make any real suggestions on im...</td>\n",
              "      <td>0001b41b1c6bb37e</td>\n",
              "      <td>0.0</td>\n",
              "      <td>0.0</td>\n",
              "      <td>0.0</td>\n",
              "      <td>train</td>\n",
              "      <td>0.0</td>\n",
              "      <td>0.0</td>\n",
              "      <td>0.0</td>\n",
              "      <td>0.0</td>\n",
              "    </tr>\n",
              "    <tr>\n",
              "      <th>4</th>\n",
              "      <td>you  sir  are my hero  any chance you remember...</td>\n",
              "      <td>0001d958c54c6e35</td>\n",
              "      <td>0.0</td>\n",
              "      <td>0.0</td>\n",
              "      <td>0.0</td>\n",
              "      <td>train</td>\n",
              "      <td>0.0</td>\n",
              "      <td>0.0</td>\n",
              "      <td>0.0</td>\n",
              "      <td>0.0</td>\n",
              "    </tr>\n",
              "  </tbody>\n",
              "</table>\n",
              "</div>\n",
              "      <button class=\"colab-df-convert\" onclick=\"convertToInteractive('df-9a90c167-2ebd-4c9f-96a6-b7887737e8e4')\"\n",
              "              title=\"Convert this dataframe to an interactive table.\"\n",
              "              style=\"display:none;\">\n",
              "        \n",
              "  <svg xmlns=\"http://www.w3.org/2000/svg\" height=\"24px\"viewBox=\"0 0 24 24\"\n",
              "       width=\"24px\">\n",
              "    <path d=\"M0 0h24v24H0V0z\" fill=\"none\"/>\n",
              "    <path d=\"M18.56 5.44l.94 2.06.94-2.06 2.06-.94-2.06-.94-.94-2.06-.94 2.06-2.06.94zm-11 1L8.5 8.5l.94-2.06 2.06-.94-2.06-.94L8.5 2.5l-.94 2.06-2.06.94zm10 10l.94 2.06.94-2.06 2.06-.94-2.06-.94-.94-2.06-.94 2.06-2.06.94z\"/><path d=\"M17.41 7.96l-1.37-1.37c-.4-.4-.92-.59-1.43-.59-.52 0-1.04.2-1.43.59L10.3 9.45l-7.72 7.72c-.78.78-.78 2.05 0 2.83L4 21.41c.39.39.9.59 1.41.59.51 0 1.02-.2 1.41-.59l7.78-7.78 2.81-2.81c.8-.78.8-2.07 0-2.86zM5.41 20L4 18.59l7.72-7.72 1.47 1.35L5.41 20z\"/>\n",
              "  </svg>\n",
              "      </button>\n",
              "      \n",
              "  <style>\n",
              "    .colab-df-container {\n",
              "      display:flex;\n",
              "      flex-wrap:wrap;\n",
              "      gap: 12px;\n",
              "    }\n",
              "\n",
              "    .colab-df-convert {\n",
              "      background-color: #E8F0FE;\n",
              "      border: none;\n",
              "      border-radius: 50%;\n",
              "      cursor: pointer;\n",
              "      display: none;\n",
              "      fill: #1967D2;\n",
              "      height: 32px;\n",
              "      padding: 0 0 0 0;\n",
              "      width: 32px;\n",
              "    }\n",
              "\n",
              "    .colab-df-convert:hover {\n",
              "      background-color: #E2EBFA;\n",
              "      box-shadow: 0px 1px 2px rgba(60, 64, 67, 0.3), 0px 1px 3px 1px rgba(60, 64, 67, 0.15);\n",
              "      fill: #174EA6;\n",
              "    }\n",
              "\n",
              "    [theme=dark] .colab-df-convert {\n",
              "      background-color: #3B4455;\n",
              "      fill: #D2E3FC;\n",
              "    }\n",
              "\n",
              "    [theme=dark] .colab-df-convert:hover {\n",
              "      background-color: #434B5C;\n",
              "      box-shadow: 0px 1px 3px 1px rgba(0, 0, 0, 0.15);\n",
              "      filter: drop-shadow(0px 1px 2px rgba(0, 0, 0, 0.3));\n",
              "      fill: #FFFFFF;\n",
              "    }\n",
              "  </style>\n",
              "\n",
              "      <script>\n",
              "        const buttonEl =\n",
              "          document.querySelector('#df-9a90c167-2ebd-4c9f-96a6-b7887737e8e4 button.colab-df-convert');\n",
              "        buttonEl.style.display =\n",
              "          google.colab.kernel.accessAllowed ? 'block' : 'none';\n",
              "\n",
              "        async function convertToInteractive(key) {\n",
              "          const element = document.querySelector('#df-9a90c167-2ebd-4c9f-96a6-b7887737e8e4');\n",
              "          const dataTable =\n",
              "            await google.colab.kernel.invokeFunction('convertToInteractive',\n",
              "                                                     [key], {});\n",
              "          if (!dataTable) return;\n",
              "\n",
              "          const docLinkHtml = 'Like what you see? Visit the ' +\n",
              "            '<a target=\"_blank\" href=https://colab.research.google.com/notebooks/data_table.ipynb>data table notebook</a>'\n",
              "            + ' to learn more about interactive tables.';\n",
              "          element.innerHTML = '';\n",
              "          dataTable['output_type'] = 'display_data';\n",
              "          await google.colab.output.renderOutput(dataTable, element);\n",
              "          const docLink = document.createElement('div');\n",
              "          docLink.innerHTML = docLinkHtml;\n",
              "          element.appendChild(docLink);\n",
              "        }\n",
              "      </script>\n",
              "    </div>\n",
              "  </div>\n",
              "  "
            ]
          },
          "metadata": {},
          "execution_count": 53
        }
      ]
    },
    {
      "cell_type": "code",
      "source": [
        "df = df[[\"comment_text\", \"toxic\"]]"
      ],
      "metadata": {
        "id": "O7Odsd8Bnm6Q"
      },
      "execution_count": 54,
      "outputs": []
    },
    {
      "cell_type": "code",
      "source": [
        "df.isna().sum()"
      ],
      "metadata": {
        "colab": {
          "base_uri": "https://localhost:8080/"
        },
        "id": "kHQwqUh0zUtZ",
        "outputId": "29eb7d17-91f5-48bc-a7d6-52dcd428e6e8"
      },
      "execution_count": 80,
      "outputs": [
        {
          "output_type": "execute_result",
          "data": {
            "text/plain": [
              "comment_text    0\n",
              "toxic           1\n",
              "tokens          0\n",
              "vec             0\n",
              "dtype: int64"
            ]
          },
          "metadata": {},
          "execution_count": 80
        }
      ]
    },
    {
      "cell_type": "code",
      "source": [
        "df = df.dropna()"
      ],
      "metadata": {
        "id": "rceRmOA4zUwA"
      },
      "execution_count": 81,
      "outputs": []
    },
    {
      "cell_type": "code",
      "source": [
        "df[\"comment_text\"].str.isspace().sum()"
      ],
      "metadata": {
        "colab": {
          "base_uri": "https://localhost:8080/"
        },
        "id": "7CUz9T17zUzG",
        "outputId": "99256706-b32a-41cf-a8ea-92f9b7eb7e64"
      },
      "execution_count": 84,
      "outputs": [
        {
          "output_type": "execute_result",
          "data": {
            "text/plain": [
              "3"
            ]
          },
          "metadata": {},
          "execution_count": 84
        }
      ]
    },
    {
      "cell_type": "code",
      "source": [
        "df = df[~ df[\"comment_text\"].str.isspace() == True]"
      ],
      "metadata": {
        "id": "5WvKoZLGzU1t"
      },
      "execution_count": 85,
      "outputs": []
    },
    {
      "cell_type": "markdown",
      "source": [
        "# Clearing stop_words and punctuations"
      ],
      "metadata": {
        "id": "c6FfdUikqoSa"
      }
    },
    {
      "cell_type": "code",
      "source": [
        "import string\n",
        "import spacy"
      ],
      "metadata": {
        "colab": {
          "base_uri": "https://localhost:8080/"
        },
        "id": "L69Sgq83nm8B",
        "outputId": "58bb38dc-7c6c-49fd-bb64-bc7ae83e2d58"
      },
      "execution_count": 55,
      "outputs": [
        {
          "output_type": "stream",
          "name": "stderr",
          "text": [
            "/usr/local/lib/python3.9/dist-packages/torch/cuda/__init__.py:497: UserWarning: Can't initialize NVML\n",
            "  warnings.warn(\"Can't initialize NVML\")\n"
          ]
        }
      ]
    },
    {
      "cell_type": "code",
      "source": [
        "# our stop_words list from spacy\n",
        "nlp = spacy.load(\"en_core_web_sm\")\n",
        "stop_words = nlp.Defaults.stop_words\n",
        "print(stop_words)"
      ],
      "metadata": {
        "colab": {
          "base_uri": "https://localhost:8080/"
        },
        "id": "xA3qEP2OgWaf",
        "outputId": "ca3b169a-507b-4f3b-a73c-8a7a859cb0ac"
      },
      "execution_count": 59,
      "outputs": [
        {
          "output_type": "stream",
          "name": "stdout",
          "text": [
            "{'should', 'ca', 'as', 'go', 'among', 'twelve', 'toward', 'put', 'with', 'above', 'few', 'bottom', 'eleven', 'then', 'hereupon', \"'m\", 'six', 'rather', 'wherever', 'within', '’m', 'move', 'both', 'could', 'might', 'none', 'why', 'on', '‘ve', 'often', 'against', 'top', 'which', 'amount', 'thence', 'upon', 'together', 'thereby', 'him', 'others', 'yours', 'anywhere', 'no', 'thereupon', 'former', 'becomes', 'less', 'itself', 'nobody', 'once', '’re', 'if', 'perhaps', 'before', 'anything', 'or', 'the', 'much', 'beyond', 'made', 'twenty', 'without', 'several', 'three', 'onto', 'call', 'was', 'whence', 'almost', '‘ll', 'they', 'here', 'who', 'done', 'whereby', 'four', 'enough', 'throughout', 'otherwise', 'how', 'must', 'else', 'something', 'what', 'mostly', 'further', 'everyone', 'out', 'whereafter', 'least', 'still', 'after', 'again', 'she', 'were', 'into', 'am', 'two', 'and', 'everywhere', 'nowhere', 'has', 'those', 'around', 'can', 'sometimes', '‘d', 'please', 'themselves', 'i', 'doing', 'elsewhere', 'hereafter', 'her', 'someone', 'fifteen', 'front', 'such', 'same', 'only', 'fifty', 'from', 'five', 'one', 'their', 'therefore', 'always', 'because', 'name', 'full', 'noone', 're', 'he', 'had', 'it', 'cannot', 'thru', 'sixty', '‘re', 'do', 'more', \"'d\", 'being', 'wherein', 'ours', 'forty', 'whereupon', 'will', 'not', 'nothing', 'many', 'herself', 'us', 'under', 'herein', 'hence', '’d', 'we', 'get', 'sometime', 'via', 'already', 'than', 'me', 'anyhow', 'where', 'give', 'is', 'about', 'ever', 'whoever', 'towards', 'our', 'namely', 'yourself', 'whither', 'there', '‘m', 'this', 'empty', 'hundred', 'whatever', 'every', 'to', 'thus', 'own', 'while', 'but', 'afterwards', 'too', 'seems', 'an', 'its', 'you', 'over', 'himself', 'during', 'in', 'whose', 'be', 'beforehand', 'my', 'therein', 'for', 'his', 'keep', 'became', 'next', 'whereas', 'latter', 'side', 'formerly', 'n‘t', 'through', 'hers', 'ten', 'anyone', '‘s', 'n’t', 'unless', 'amongst', 'of', 'another', 'any', 'each', 'third', 'latterly', \"'s\", 'seem', 'a', 'below', 'ourselves', \"'ll\", 'very', 'indeed', '’ll', 'everything', 'some', 'now', 'nor', \"n't\", 'well', 'say', 'somewhere', 'hereby', 'have', 'becoming', 'behind', 'across', 'although', 'does', 'been', 'alone', 'back', 'up', 'due', 'these', 'are', 'using', 'see', \"'re\", 'regarding', 'quite', 'never', 'along', 'myself', 'various', 'take', 'did', 'until', 'meanwhile', 'whenever', 'other', 'either', 'since', 'them', 'yet', '’ve', 'so', 'beside', 'between', 'nevertheless', 'nine', 'except', 'yourselves', 'down', 'all', 'somehow', 'neither', 'though', 'at', 'whom', 'also', 'part', 'moreover', \"'ve\", 'whole', 'eight', 'seemed', 'show', 'would', 'anyway', 'besides', 'last', 'used', 'just', 'per', 'may', 'your', 'when', 'first', 'really', 'that', 'by', 'most', 'mine', 'even', 'whether', '’s', 'make', 'seeming', 'however', 'serious', 'off', 'become', 'thereafter'}\n"
          ]
        }
      ]
    },
    {
      "cell_type": "code",
      "source": [
        "# Similarly for the punctuations from spacy\n",
        "punctuations = string.punctuation\n",
        "print(punctuations)"
      ],
      "metadata": {
        "colab": {
          "base_uri": "https://localhost:8080/"
        },
        "id": "o991y6qzgWch",
        "outputId": "fd15cced-58b3-4f85-e374-036980a8fb03"
      },
      "execution_count": 61,
      "outputs": [
        {
          "output_type": "stream",
          "name": "stdout",
          "text": [
            "!\"#$%&'()*+,-./:;<=>?@[\\]^_`{|}~\n"
          ]
        }
      ]
    },
    {
      "cell_type": "code",
      "source": [
        "def spacy_tokenizer(sentence):\n",
        "  doc = nlp(sentence)\n",
        "\n",
        "  # Lemmatizing each token and converting each token into lowercase\n",
        "  my_tokens = [word.lemma_.lower().strip() for word in doc]\n",
        "\n",
        "  mytokens = [word for word in my_tokens if word not in stop_words and word not in punctuations]\n",
        "\n",
        "  return mytokens\n"
      ],
      "metadata": {
        "id": "EUrUVR2UgWfX"
      },
      "execution_count": 66,
      "outputs": []
    },
    {
      "cell_type": "code",
      "source": [
        "#trail\n",
        "spacy_tokenizer(\"I love apples!\")"
      ],
      "metadata": {
        "colab": {
          "base_uri": "https://localhost:8080/"
        },
        "id": "JbGzPFgugWg_",
        "outputId": "2325914f-da2c-42df-b200-fd908ec91ef1"
      },
      "execution_count": 67,
      "outputs": [
        {
          "output_type": "execute_result",
          "data": {
            "text/plain": [
              "['love', 'apple']"
            ]
          },
          "metadata": {},
          "execution_count": 67
        }
      ]
    },
    {
      "cell_type": "code",
      "source": [
        "df[\"tokens\"] = df[\"comment_text\"].apply(spacy_tokenizer)"
      ],
      "metadata": {
        "id": "tnn7gQkmgWkK"
      },
      "execution_count": 86,
      "outputs": []
    },
    {
      "cell_type": "code",
      "source": [
        "df.head(3)"
      ],
      "metadata": {
        "colab": {
          "base_uri": "https://localhost:8080/",
          "height": 143
        },
        "id": "oBU5FB0igWl9",
        "outputId": "29a1813c-aa5a-4208-a637-3d417070275d"
      },
      "execution_count": 87,
      "outputs": [
        {
          "output_type": "execute_result",
          "data": {
            "text/plain": [
              "                                        comment_text  toxic  \\\n",
              "0  explanation why the edits made under my userna...    0.0   \n",
              "1  d aww  he matches this background colour i m s...    0.0   \n",
              "2  hey man  i m really not trying to edit war  it...    0.0   \n",
              "\n",
              "                                              tokens  \\\n",
              "0  [explanation, edit, username, hardcore, metall...   \n",
              "1  [d, aww, match, background, colour, m, seeming...   \n",
              "2  [hey, man, m, try, edit, war, s, guy, constant...   \n",
              "\n",
              "                                                 vec  \n",
              "0  [-0.044472914475661054, 0.06138962965745192, -...  \n",
              "1  [-0.033679962158203125, 0.015431722005208334, ...  \n",
              "2  [0.00825777920809659, 0.05512584339488636, -0....  "
            ],
            "text/html": [
              "\n",
              "  <div id=\"df-ce97649f-7e62-4973-8640-2a99daa70e2e\">\n",
              "    <div class=\"colab-df-container\">\n",
              "      <div>\n",
              "<style scoped>\n",
              "    .dataframe tbody tr th:only-of-type {\n",
              "        vertical-align: middle;\n",
              "    }\n",
              "\n",
              "    .dataframe tbody tr th {\n",
              "        vertical-align: top;\n",
              "    }\n",
              "\n",
              "    .dataframe thead th {\n",
              "        text-align: right;\n",
              "    }\n",
              "</style>\n",
              "<table border=\"1\" class=\"dataframe\">\n",
              "  <thead>\n",
              "    <tr style=\"text-align: right;\">\n",
              "      <th></th>\n",
              "      <th>comment_text</th>\n",
              "      <th>toxic</th>\n",
              "      <th>tokens</th>\n",
              "      <th>vec</th>\n",
              "    </tr>\n",
              "  </thead>\n",
              "  <tbody>\n",
              "    <tr>\n",
              "      <th>0</th>\n",
              "      <td>explanation why the edits made under my userna...</td>\n",
              "      <td>0.0</td>\n",
              "      <td>[explanation, edit, username, hardcore, metall...</td>\n",
              "      <td>[-0.044472914475661054, 0.06138962965745192, -...</td>\n",
              "    </tr>\n",
              "    <tr>\n",
              "      <th>1</th>\n",
              "      <td>d aww  he matches this background colour i m s...</td>\n",
              "      <td>0.0</td>\n",
              "      <td>[d, aww, match, background, colour, m, seeming...</td>\n",
              "      <td>[-0.033679962158203125, 0.015431722005208334, ...</td>\n",
              "    </tr>\n",
              "    <tr>\n",
              "      <th>2</th>\n",
              "      <td>hey man  i m really not trying to edit war  it...</td>\n",
              "      <td>0.0</td>\n",
              "      <td>[hey, man, m, try, edit, war, s, guy, constant...</td>\n",
              "      <td>[0.00825777920809659, 0.05512584339488636, -0....</td>\n",
              "    </tr>\n",
              "  </tbody>\n",
              "</table>\n",
              "</div>\n",
              "      <button class=\"colab-df-convert\" onclick=\"convertToInteractive('df-ce97649f-7e62-4973-8640-2a99daa70e2e')\"\n",
              "              title=\"Convert this dataframe to an interactive table.\"\n",
              "              style=\"display:none;\">\n",
              "        \n",
              "  <svg xmlns=\"http://www.w3.org/2000/svg\" height=\"24px\"viewBox=\"0 0 24 24\"\n",
              "       width=\"24px\">\n",
              "    <path d=\"M0 0h24v24H0V0z\" fill=\"none\"/>\n",
              "    <path d=\"M18.56 5.44l.94 2.06.94-2.06 2.06-.94-2.06-.94-.94-2.06-.94 2.06-2.06.94zm-11 1L8.5 8.5l.94-2.06 2.06-.94-2.06-.94L8.5 2.5l-.94 2.06-2.06.94zm10 10l.94 2.06.94-2.06 2.06-.94-2.06-.94-.94-2.06-.94 2.06-2.06.94z\"/><path d=\"M17.41 7.96l-1.37-1.37c-.4-.4-.92-.59-1.43-.59-.52 0-1.04.2-1.43.59L10.3 9.45l-7.72 7.72c-.78.78-.78 2.05 0 2.83L4 21.41c.39.39.9.59 1.41.59.51 0 1.02-.2 1.41-.59l7.78-7.78 2.81-2.81c.8-.78.8-2.07 0-2.86zM5.41 20L4 18.59l7.72-7.72 1.47 1.35L5.41 20z\"/>\n",
              "  </svg>\n",
              "      </button>\n",
              "      \n",
              "  <style>\n",
              "    .colab-df-container {\n",
              "      display:flex;\n",
              "      flex-wrap:wrap;\n",
              "      gap: 12px;\n",
              "    }\n",
              "\n",
              "    .colab-df-convert {\n",
              "      background-color: #E8F0FE;\n",
              "      border: none;\n",
              "      border-radius: 50%;\n",
              "      cursor: pointer;\n",
              "      display: none;\n",
              "      fill: #1967D2;\n",
              "      height: 32px;\n",
              "      padding: 0 0 0 0;\n",
              "      width: 32px;\n",
              "    }\n",
              "\n",
              "    .colab-df-convert:hover {\n",
              "      background-color: #E2EBFA;\n",
              "      box-shadow: 0px 1px 2px rgba(60, 64, 67, 0.3), 0px 1px 3px 1px rgba(60, 64, 67, 0.15);\n",
              "      fill: #174EA6;\n",
              "    }\n",
              "\n",
              "    [theme=dark] .colab-df-convert {\n",
              "      background-color: #3B4455;\n",
              "      fill: #D2E3FC;\n",
              "    }\n",
              "\n",
              "    [theme=dark] .colab-df-convert:hover {\n",
              "      background-color: #434B5C;\n",
              "      box-shadow: 0px 1px 3px 1px rgba(0, 0, 0, 0.15);\n",
              "      filter: drop-shadow(0px 1px 2px rgba(0, 0, 0, 0.3));\n",
              "      fill: #FFFFFF;\n",
              "    }\n",
              "  </style>\n",
              "\n",
              "      <script>\n",
              "        const buttonEl =\n",
              "          document.querySelector('#df-ce97649f-7e62-4973-8640-2a99daa70e2e button.colab-df-convert');\n",
              "        buttonEl.style.display =\n",
              "          google.colab.kernel.accessAllowed ? 'block' : 'none';\n",
              "\n",
              "        async function convertToInteractive(key) {\n",
              "          const element = document.querySelector('#df-ce97649f-7e62-4973-8640-2a99daa70e2e');\n",
              "          const dataTable =\n",
              "            await google.colab.kernel.invokeFunction('convertToInteractive',\n",
              "                                                     [key], {});\n",
              "          if (!dataTable) return;\n",
              "\n",
              "          const docLinkHtml = 'Like what you see? Visit the ' +\n",
              "            '<a target=\"_blank\" href=https://colab.research.google.com/notebooks/data_table.ipynb>data table notebook</a>'\n",
              "            + ' to learn more about interactive tables.';\n",
              "          element.innerHTML = '';\n",
              "          dataTable['output_type'] = 'display_data';\n",
              "          await google.colab.output.renderOutput(dataTable, element);\n",
              "          const docLink = document.createElement('div');\n",
              "          docLink.innerHTML = docLinkHtml;\n",
              "          element.appendChild(docLink);\n",
              "        }\n",
              "      </script>\n",
              "    </div>\n",
              "  </div>\n",
              "  "
            ]
          },
          "metadata": {},
          "execution_count": 87
        }
      ]
    },
    {
      "cell_type": "markdown",
      "source": [
        "# Using Average Approach\n",
        "* because lengths of our sentences may vary\n",
        "* all sentences should have the same length"
      ],
      "metadata": {
        "id": "tOw4gkN-xJ22"
      }
    },
    {
      "cell_type": "code",
      "source": [
        "def sent_vec(sent):\n",
        "  vector_size = wv.vector_size # attribute of wv\n",
        "  wv_res = np.zeros(vector_size) # 300 dimensional vetor of zeros\n",
        "  #print(wv_res)\n",
        "  ctr = 1\n",
        "  for w in sent:            # for whatever tokens we have\n",
        "    if w in wv:             # checking if our work is present in word2vec \n",
        "      ctr += 1\n",
        "      wv_res += wv[w]       # we add vector_representation to zero vector\n",
        "# We will have all the vectors associated with each word of the sentence in \"wv_res\"\n",
        "  \n",
        "  wv_res = wv_res/ctr # we divide the \"wv_res\" by number of words\n",
        "  return wv_res"
      ],
      "metadata": {
        "id": "Wv-X5EqZgWoz"
      },
      "execution_count": 88,
      "outputs": []
    },
    {
      "cell_type": "code",
      "source": [
        "# preforming functions on the newly created \"tokens\"\n",
        "df[\"vec\"] = df[\"tokens\"].apply(sent_vec)"
      ],
      "metadata": {
        "id": "zb-xqTeJgWqm"
      },
      "execution_count": 89,
      "outputs": []
    },
    {
      "cell_type": "code",
      "source": [
        "df.head(3)"
      ],
      "metadata": {
        "colab": {
          "base_uri": "https://localhost:8080/",
          "height": 143
        },
        "id": "AYkKUpJfyoOX",
        "outputId": "b34b094f-cc97-432d-f071-9d4c2c01c8c1"
      },
      "execution_count": 90,
      "outputs": [
        {
          "output_type": "execute_result",
          "data": {
            "text/plain": [
              "                                        comment_text  toxic  \\\n",
              "0  explanation why the edits made under my userna...    0.0   \n",
              "1  d aww  he matches this background colour i m s...    0.0   \n",
              "2  hey man  i m really not trying to edit war  it...    0.0   \n",
              "\n",
              "                                              tokens  \\\n",
              "0  [explanation, edit, username, hardcore, metall...   \n",
              "1  [d, aww, match, background, colour, m, seeming...   \n",
              "2  [hey, man, m, try, edit, war, s, guy, constant...   \n",
              "\n",
              "                                                 vec  \n",
              "0  [-0.044472914475661054, 0.06138962965745192, -...  \n",
              "1  [-0.033679962158203125, 0.015431722005208334, ...  \n",
              "2  [0.00825777920809659, 0.05512584339488636, -0....  "
            ],
            "text/html": [
              "\n",
              "  <div id=\"df-ca416f67-08fa-42f2-8a0e-23b9a31fe159\">\n",
              "    <div class=\"colab-df-container\">\n",
              "      <div>\n",
              "<style scoped>\n",
              "    .dataframe tbody tr th:only-of-type {\n",
              "        vertical-align: middle;\n",
              "    }\n",
              "\n",
              "    .dataframe tbody tr th {\n",
              "        vertical-align: top;\n",
              "    }\n",
              "\n",
              "    .dataframe thead th {\n",
              "        text-align: right;\n",
              "    }\n",
              "</style>\n",
              "<table border=\"1\" class=\"dataframe\">\n",
              "  <thead>\n",
              "    <tr style=\"text-align: right;\">\n",
              "      <th></th>\n",
              "      <th>comment_text</th>\n",
              "      <th>toxic</th>\n",
              "      <th>tokens</th>\n",
              "      <th>vec</th>\n",
              "    </tr>\n",
              "  </thead>\n",
              "  <tbody>\n",
              "    <tr>\n",
              "      <th>0</th>\n",
              "      <td>explanation why the edits made under my userna...</td>\n",
              "      <td>0.0</td>\n",
              "      <td>[explanation, edit, username, hardcore, metall...</td>\n",
              "      <td>[-0.044472914475661054, 0.06138962965745192, -...</td>\n",
              "    </tr>\n",
              "    <tr>\n",
              "      <th>1</th>\n",
              "      <td>d aww  he matches this background colour i m s...</td>\n",
              "      <td>0.0</td>\n",
              "      <td>[d, aww, match, background, colour, m, seeming...</td>\n",
              "      <td>[-0.033679962158203125, 0.015431722005208334, ...</td>\n",
              "    </tr>\n",
              "    <tr>\n",
              "      <th>2</th>\n",
              "      <td>hey man  i m really not trying to edit war  it...</td>\n",
              "      <td>0.0</td>\n",
              "      <td>[hey, man, m, try, edit, war, s, guy, constant...</td>\n",
              "      <td>[0.00825777920809659, 0.05512584339488636, -0....</td>\n",
              "    </tr>\n",
              "  </tbody>\n",
              "</table>\n",
              "</div>\n",
              "      <button class=\"colab-df-convert\" onclick=\"convertToInteractive('df-ca416f67-08fa-42f2-8a0e-23b9a31fe159')\"\n",
              "              title=\"Convert this dataframe to an interactive table.\"\n",
              "              style=\"display:none;\">\n",
              "        \n",
              "  <svg xmlns=\"http://www.w3.org/2000/svg\" height=\"24px\"viewBox=\"0 0 24 24\"\n",
              "       width=\"24px\">\n",
              "    <path d=\"M0 0h24v24H0V0z\" fill=\"none\"/>\n",
              "    <path d=\"M18.56 5.44l.94 2.06.94-2.06 2.06-.94-2.06-.94-.94-2.06-.94 2.06-2.06.94zm-11 1L8.5 8.5l.94-2.06 2.06-.94-2.06-.94L8.5 2.5l-.94 2.06-2.06.94zm10 10l.94 2.06.94-2.06 2.06-.94-2.06-.94-.94-2.06-.94 2.06-2.06.94z\"/><path d=\"M17.41 7.96l-1.37-1.37c-.4-.4-.92-.59-1.43-.59-.52 0-1.04.2-1.43.59L10.3 9.45l-7.72 7.72c-.78.78-.78 2.05 0 2.83L4 21.41c.39.39.9.59 1.41.59.51 0 1.02-.2 1.41-.59l7.78-7.78 2.81-2.81c.8-.78.8-2.07 0-2.86zM5.41 20L4 18.59l7.72-7.72 1.47 1.35L5.41 20z\"/>\n",
              "  </svg>\n",
              "      </button>\n",
              "      \n",
              "  <style>\n",
              "    .colab-df-container {\n",
              "      display:flex;\n",
              "      flex-wrap:wrap;\n",
              "      gap: 12px;\n",
              "    }\n",
              "\n",
              "    .colab-df-convert {\n",
              "      background-color: #E8F0FE;\n",
              "      border: none;\n",
              "      border-radius: 50%;\n",
              "      cursor: pointer;\n",
              "      display: none;\n",
              "      fill: #1967D2;\n",
              "      height: 32px;\n",
              "      padding: 0 0 0 0;\n",
              "      width: 32px;\n",
              "    }\n",
              "\n",
              "    .colab-df-convert:hover {\n",
              "      background-color: #E2EBFA;\n",
              "      box-shadow: 0px 1px 2px rgba(60, 64, 67, 0.3), 0px 1px 3px 1px rgba(60, 64, 67, 0.15);\n",
              "      fill: #174EA6;\n",
              "    }\n",
              "\n",
              "    [theme=dark] .colab-df-convert {\n",
              "      background-color: #3B4455;\n",
              "      fill: #D2E3FC;\n",
              "    }\n",
              "\n",
              "    [theme=dark] .colab-df-convert:hover {\n",
              "      background-color: #434B5C;\n",
              "      box-shadow: 0px 1px 3px 1px rgba(0, 0, 0, 0.15);\n",
              "      filter: drop-shadow(0px 1px 2px rgba(0, 0, 0, 0.3));\n",
              "      fill: #FFFFFF;\n",
              "    }\n",
              "  </style>\n",
              "\n",
              "      <script>\n",
              "        const buttonEl =\n",
              "          document.querySelector('#df-ca416f67-08fa-42f2-8a0e-23b9a31fe159 button.colab-df-convert');\n",
              "        buttonEl.style.display =\n",
              "          google.colab.kernel.accessAllowed ? 'block' : 'none';\n",
              "\n",
              "        async function convertToInteractive(key) {\n",
              "          const element = document.querySelector('#df-ca416f67-08fa-42f2-8a0e-23b9a31fe159');\n",
              "          const dataTable =\n",
              "            await google.colab.kernel.invokeFunction('convertToInteractive',\n",
              "                                                     [key], {});\n",
              "          if (!dataTable) return;\n",
              "\n",
              "          const docLinkHtml = 'Like what you see? Visit the ' +\n",
              "            '<a target=\"_blank\" href=https://colab.research.google.com/notebooks/data_table.ipynb>data table notebook</a>'\n",
              "            + ' to learn more about interactive tables.';\n",
              "          element.innerHTML = '';\n",
              "          dataTable['output_type'] = 'display_data';\n",
              "          await google.colab.output.renderOutput(dataTable, element);\n",
              "          const docLink = document.createElement('div');\n",
              "          docLink.innerHTML = docLinkHtml;\n",
              "          element.appendChild(docLink);\n",
              "        }\n",
              "      </script>\n",
              "    </div>\n",
              "  </div>\n",
              "  "
            ]
          },
          "metadata": {},
          "execution_count": 90
        }
      ]
    },
    {
      "cell_type": "markdown",
      "source": [
        "# train_test_splitting"
      ],
      "metadata": {
        "id": "nAC8V99eyxve"
      }
    },
    {
      "cell_type": "code",
      "source": [
        "X = list(df[\"vec\"])\n",
        "y = list(df[\"toxic\"])"
      ],
      "metadata": {
        "id": "YhIT0oRRyoQB"
      },
      "execution_count": 91,
      "outputs": []
    },
    {
      "cell_type": "code",
      "source": [
        "#X[0]"
      ],
      "metadata": {
        "id": "y5kzsaAnyoTg"
      },
      "execution_count": 77,
      "outputs": []
    },
    {
      "cell_type": "code",
      "source": [
        "from sklearn.model_selection import train_test_split  "
      ],
      "metadata": {
        "id": "3C9PyteOzBY0"
      },
      "execution_count": 78,
      "outputs": []
    },
    {
      "cell_type": "code",
      "source": [
        "X_train, X_test, y_train, y_test = train_test_split(X, y, test_size=0.2, random_state=101, stratify=y)"
      ],
      "metadata": {
        "id": "tW5D2zKezBbZ"
      },
      "execution_count": 92,
      "outputs": []
    },
    {
      "cell_type": "markdown",
      "source": [
        "# Training Models and Evaluating"
      ],
      "metadata": {
        "id": "BOmJfb7N5hCS"
      }
    },
    {
      "cell_type": "code",
      "source": [
        "from sklearn.metrics import classification_report"
      ],
      "metadata": {
        "id": "aUa5-hED54IF"
      },
      "execution_count": 94,
      "outputs": []
    },
    {
      "cell_type": "code",
      "source": [
        "def report(model):\n",
        "  model.fit(X_train, y_train)\n",
        "  y_pred = model.predict(X_test)\n",
        "  print(classification_report(y_test, y_pred))"
      ],
      "metadata": {
        "id": "5u25d5hP5nRY"
      },
      "execution_count": 102,
      "outputs": []
    },
    {
      "cell_type": "code",
      "source": [
        "from sklearn.linear_model import LogisticRegression"
      ],
      "metadata": {
        "id": "ohAi7iZ6zBeT"
      },
      "execution_count": 93,
      "outputs": []
    },
    {
      "cell_type": "code",
      "source": [
        "log_model = LogisticRegression(max_iter=1000)"
      ],
      "metadata": {
        "id": "kb2Xs_c9zBhE"
      },
      "execution_count": 100,
      "outputs": []
    },
    {
      "cell_type": "code",
      "source": [
        "from sklearn.svm import LinearSVC, SVC"
      ],
      "metadata": {
        "id": "HamKfRYgzBje"
      },
      "execution_count": 96,
      "outputs": []
    },
    {
      "cell_type": "code",
      "source": [
        "rbf_svc = SVC()"
      ],
      "metadata": {
        "id": "Lcs7gW8gzBmb"
      },
      "execution_count": 97,
      "outputs": []
    },
    {
      "cell_type": "code",
      "source": [
        "svc = LinearSVC()"
      ],
      "metadata": {
        "id": "Ga82Hl3LzBpm"
      },
      "execution_count": 98,
      "outputs": []
    },
    {
      "cell_type": "code",
      "source": [
        "report(log_model)"
      ],
      "metadata": {
        "colab": {
          "base_uri": "https://localhost:8080/"
        },
        "id": "LmnNg2wayoWq",
        "outputId": "d5a4f0f5-2b0a-47d6-f01e-7ec7926aeb6a"
      },
      "execution_count": 103,
      "outputs": [
        {
          "output_type": "stream",
          "name": "stdout",
          "text": [
            "              precision    recall  f1-score   support\n",
            "\n",
            "         0.0       0.96      0.99      0.97      8328\n",
            "         1.0       0.84      0.60      0.70       909\n",
            "\n",
            "    accuracy                           0.95      9237\n",
            "   macro avg       0.90      0.79      0.84      9237\n",
            "weighted avg       0.95      0.95      0.95      9237\n",
            "\n"
          ]
        }
      ]
    },
    {
      "cell_type": "code",
      "source": [
        "report(svc)"
      ],
      "metadata": {
        "colab": {
          "base_uri": "https://localhost:8080/"
        },
        "id": "5nTvL_3iyoZp",
        "outputId": "e40d0ae7-d053-433b-ee89-10456a9161bd"
      },
      "execution_count": 104,
      "outputs": [
        {
          "output_type": "stream",
          "name": "stdout",
          "text": [
            "              precision    recall  f1-score   support\n",
            "\n",
            "         0.0       0.96      0.99      0.97      8328\n",
            "         1.0       0.84      0.60      0.70       909\n",
            "\n",
            "    accuracy                           0.95      9237\n",
            "   macro avg       0.90      0.79      0.84      9237\n",
            "weighted avg       0.95      0.95      0.95      9237\n",
            "\n"
          ]
        }
      ]
    },
    {
      "cell_type": "code",
      "source": [
        "report(rbf_svc)"
      ],
      "metadata": {
        "colab": {
          "base_uri": "https://localhost:8080/"
        },
        "id": "HEv6oofe6nCA",
        "outputId": "ce78cdd7-54ed-4113-a5dd-fc22e5136a6d"
      },
      "execution_count": 105,
      "outputs": [
        {
          "output_type": "stream",
          "name": "stdout",
          "text": [
            "              precision    recall  f1-score   support\n",
            "\n",
            "         0.0       0.96      0.99      0.98      8328\n",
            "         1.0       0.88      0.62      0.73       909\n",
            "\n",
            "    accuracy                           0.95      9237\n",
            "   macro avg       0.92      0.81      0.85      9237\n",
            "weighted avg       0.95      0.95      0.95      9237\n",
            "\n"
          ]
        }
      ]
    }
  ]
}