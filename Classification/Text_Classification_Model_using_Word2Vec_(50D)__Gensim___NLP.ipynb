{
  "cells": [
    {
      "cell_type": "code",
      "execution_count": 1,
      "metadata": {
        "id": "EH0xapQVH2_p"
      },
      "outputs": [],
      "source": [
        "import numpy as np\n",
        "import pandas as pd\n",
        "import matplotlib.pyplot as plt\n",
        "import seaborn as sns"
      ]
    },
    {
      "cell_type": "code",
      "execution_count": 2,
      "metadata": {
        "colab": {
          "base_uri": "https://localhost:8080/"
        },
        "id": "EKZKtshCU5z1",
        "outputId": "8703c789-740c-426d-faeb-9475bcfde97e"
      },
      "outputs": [
        {
          "output_type": "stream",
          "name": "stderr",
          "text": [
            "/usr/local/lib/python3.9/dist-packages/torch/cuda/__init__.py:497: UserWarning: Can't initialize NVML\n",
            "  warnings.warn(\"Can't initialize NVML\")\n"
          ]
        }
      ],
      "source": [
        "import string\n",
        "import spacy"
      ]
    },
    {
      "cell_type": "code",
      "source": [
        "import gensim"
      ],
      "metadata": {
        "id": "JrpjQP7eiY66"
      },
      "execution_count": 7,
      "outputs": []
    },
    {
      "cell_type": "markdown",
      "source": [
        "https://radimrehurek.com/gensim/models/word2vec.html"
      ],
      "metadata": {
        "id": "1PZtjzngphaB"
      }
    },
    {
      "cell_type": "code",
      "source": [
        "gensim.__version__"
      ],
      "metadata": {
        "colab": {
          "base_uri": "https://localhost:8080/",
          "height": 35
        },
        "id": "0QiFl9ExjRsU",
        "outputId": "370b4595-91d0-48e3-f54f-295e2c6c2383"
      },
      "execution_count": 11,
      "outputs": [
        {
          "output_type": "execute_result",
          "data": {
            "text/plain": [
              "'3.6.0'"
            ],
            "application/vnd.google.colaboratory.intrinsic+json": {
              "type": "string"
            }
          },
          "metadata": {},
          "execution_count": 11
        }
      ]
    },
    {
      "cell_type": "code",
      "source": [
        "np.random.seed(42)"
      ],
      "metadata": {
        "id": "knjNAqySjWUb"
      },
      "execution_count": 13,
      "outputs": []
    },
    {
      "cell_type": "code",
      "source": [
        "from gensim.models import word2vec"
      ],
      "metadata": {
        "id": "ld4h2XGkihb-"
      },
      "execution_count": 8,
      "outputs": []
    },
    {
      "cell_type": "code",
      "source": [
        "from gensim.models.word2vec import Word2Vec"
      ],
      "metadata": {
        "id": "sgOPxt_xihdy"
      },
      "execution_count": 9,
      "outputs": []
    },
    {
      "cell_type": "markdown",
      "source": [
        "#### Using pretrained word-vector"
      ],
      "metadata": {
        "id": "nFFsTJ2Hi1Vh"
      }
    },
    {
      "cell_type": "code",
      "source": [
        "# gensim has an api that we can download that has trained on huge data\n",
        "import gensim.downloader as api "
      ],
      "metadata": {
        "id": "JJlrhwN7ihhH"
      },
      "execution_count": 10,
      "outputs": []
    },
    {
      "cell_type": "code",
      "source": [
        "# ector-models available\n",
        "print(gensim.downloader.info()[\"models\"].keys())"
      ],
      "metadata": {
        "colab": {
          "base_uri": "https://localhost:8080/"
        },
        "id": "pt-5CQugihi_",
        "outputId": "11c090ee-3f98-42d0-b920-1a653a7a7c66"
      },
      "execution_count": 17,
      "outputs": [
        {
          "output_type": "stream",
          "name": "stdout",
          "text": [
            "dict_keys(['fasttext-wiki-news-subwords-300', 'conceptnet-numberbatch-17-06-300', 'word2vec-ruscorpora-300', 'word2vec-google-news-300', 'glove-wiki-gigaword-50', 'glove-wiki-gigaword-100', 'glove-wiki-gigaword-200', 'glove-wiki-gigaword-300', 'glove-twitter-25', 'glove-twitter-50', 'glove-twitter-100', 'glove-twitter-200', '__testing_word2vec-matrix-synopsis'])\n"
          ]
        }
      ]
    },
    {
      "cell_type": "markdown",
      "source": [
        "First trying smaller vector representation using 50 dimensional \"glove-twitter-50\" which was trained on twitter data."
      ],
      "metadata": {
        "id": "WNYMyfaEm-XO"
      }
    },
    {
      "cell_type": "code",
      "source": [
        "wv = api.load(\"glove-twitter-50\")\n",
        "# this acts like a lookUp or dictionary i.e., when we pass any word it will retain a vector representation of that word"
      ],
      "metadata": {
        "colab": {
          "base_uri": "https://localhost:8080/"
        },
        "id": "-wnZSqIdkb0a",
        "outputId": "944c1ada-1415-4106-d4a8-11d75337f9e1"
      },
      "execution_count": 18,
      "outputs": [
        {
          "output_type": "stream",
          "name": "stdout",
          "text": [
            "[==================================================] 100.0% 199.5/199.5MB downloaded\n"
          ]
        }
      ]
    },
    {
      "cell_type": "code",
      "source": [
        "type(wv)"
      ],
      "metadata": {
        "colab": {
          "base_uri": "https://localhost:8080/"
        },
        "id": "rYWG1Kuwkb2w",
        "outputId": "9de95579-33b1-4484-f5e5-64253198f194"
      },
      "execution_count": 19,
      "outputs": [
        {
          "output_type": "execute_result",
          "data": {
            "text/plain": [
              "gensim.models.keyedvectors.Word2VecKeyedVectors"
            ]
          },
          "metadata": {},
          "execution_count": 19
        }
      ]
    },
    {
      "cell_type": "code",
      "source": [
        "# example\n",
        "wv[\"aeroplane\"]"
      ],
      "metadata": {
        "colab": {
          "base_uri": "https://localhost:8080/"
        },
        "id": "ac-xtxn3kb6Z",
        "outputId": "390c9a89-c398-4dbc-c396-33155b47beb3"
      },
      "execution_count": 20,
      "outputs": [
        {
          "output_type": "execute_result",
          "data": {
            "text/plain": [
              "array([-1.1075  ,  0.5215  , -0.26171 ,  0.3382  , -0.18332 ,  0.47509 ,\n",
              "        0.39695 , -0.70161 ,  0.87691 , -0.31173 ,  0.007826, -0.79057 ,\n",
              "       -1.1636  , -0.73842 ,  0.17284 , -0.34045 ,  0.091105,  0.090512,\n",
              "       -0.20105 , -0.12936 , -0.21617 , -0.55929 ,  0.76158 , -0.21148 ,\n",
              "       -0.090005,  0.77616 , -0.20939 ,  0.026458, -0.43383 ,  0.30525 ,\n",
              "        0.23116 ,  0.18352 ,  0.84813 , -0.37342 ,  0.59051 ,  0.026781,\n",
              "        0.45374 , -0.73043 ,  0.18694 ,  0.2084  ,  0.80698 , -0.38954 ,\n",
              "       -1.0978  , -0.45857 , -0.1947  ,  0.64096 , -0.3901  ,  0.35421 ,\n",
              "        0.79343 ,  0.74779 ], dtype=float32)"
            ]
          },
          "metadata": {},
          "execution_count": 20
        }
      ]
    },
    {
      "cell_type": "code",
      "source": [
        "len(wv[\"aeroplane\"])\n",
        "# as we have downloaded 50 dimensional \"glove-twitter-50\" which was trained on the twitter data"
      ],
      "metadata": {
        "colab": {
          "base_uri": "https://localhost:8080/"
        },
        "id": "347IWxnnl6zi",
        "outputId": "844e5602-b190-4c69-952a-6600eeff6cb3"
      },
      "execution_count": 22,
      "outputs": [
        {
          "output_type": "execute_result",
          "data": {
            "text/plain": [
              "50"
            ]
          },
          "metadata": {},
          "execution_count": 22
        }
      ]
    },
    {
      "cell_type": "code",
      "source": [
        "# Checking few methods avaibale\n",
        "wv.similarity(\"apple\", \"mango\")"
      ],
      "metadata": {
        "colab": {
          "base_uri": "https://localhost:8080/"
        },
        "id": "asDIdSNzl61j",
        "outputId": "380eb5bd-07f9-4e18-b0cf-c22bcb2dc9e8"
      },
      "execution_count": 24,
      "outputs": [
        {
          "output_type": "execute_result",
          "data": {
            "text/plain": [
              "0.5289788"
            ]
          },
          "metadata": {},
          "execution_count": 24
        }
      ]
    },
    {
      "cell_type": "code",
      "source": [
        "wv.similarity(\"mango\", \"aeroplane\")"
      ],
      "metadata": {
        "colab": {
          "base_uri": "https://localhost:8080/"
        },
        "id": "7_6YtyWMl65b",
        "outputId": "0e6c79aa-aa40-466c-a986-ce0b134239d4"
      },
      "execution_count": 25,
      "outputs": [
        {
          "output_type": "execute_result",
          "data": {
            "text/plain": [
              "0.2547552"
            ]
          },
          "metadata": {},
          "execution_count": 25
        }
      ]
    },
    {
      "cell_type": "code",
      "source": [
        "# Checking similarity pairwise\n",
        "pairs = [\n",
        "    (\"car\",\"minivan\"),\n",
        "    (\"car\", \"communism\"),\n",
        "    (\"car\", \"cereals\"),\n",
        "    (\"car\", \"banana\")\n",
        "]"
      ],
      "metadata": {
        "id": "g8RCIghjnrwS"
      },
      "execution_count": 28,
      "outputs": []
    },
    {
      "cell_type": "code",
      "source": [
        "for w1, w2 in pairs:\n",
        "    print('%r\\t%r\\t%.2f' % (w1, w2, wv.similarity(w1, w2)))\n",
        "\n",
        "# here we can see higher semanitic similarity (in real world) between the \"car\" and \"minivan\""
      ],
      "metadata": {
        "colab": {
          "base_uri": "https://localhost:8080/"
        },
        "id": "_DRr9Ke_ol9I",
        "outputId": "781372c1-d6b0-451b-bba1-3b1b3b8b4987"
      },
      "execution_count": 37,
      "outputs": [
        {
          "output_type": "stream",
          "name": "stdout",
          "text": [
            "'car'\t'minivan'\t0.48\n",
            "'car'\t'communism'\t0.01\n",
            "'car'\t'cereals'\t-0.02\n",
            "'car'\t'banana'\t0.34\n"
          ]
        }
      ]
    },
    {
      "cell_type": "code",
      "source": [
        "# top 5 most_similar words\n",
        "print(wv.most_similar(positive = [\"car\", \"minivan\"])[:5])"
      ],
      "metadata": {
        "colab": {
          "base_uri": "https://localhost:8080/"
        },
        "id": "N4LYbJJknr4q",
        "outputId": "6549ba5a-abf7-4222-e71a-6fcb6977aec7"
      },
      "execution_count": 46,
      "outputs": [
        {
          "output_type": "stream",
          "name": "stdout",
          "text": [
            "[('truck', 0.8638960719108582), ('driving', 0.8150991201400757), ('airplane', 0.8137863874435425), ('parked', 0.8027330636978149), ('drove', 0.8020967841148376)]\n"
          ]
        }
      ]
    },
    {
      "cell_type": "code",
      "source": [
        "print(wv.most_similar(positive = [\"apple\", \"mango\"])[:5])"
      ],
      "metadata": {
        "colab": {
          "base_uri": "https://localhost:8080/"
        },
        "id": "W45M9_J8nr7Q",
        "outputId": "2f051bb7-0e1c-4932-adbe-7edc49093f9b"
      },
      "execution_count": 49,
      "outputs": [
        {
          "output_type": "stream",
          "name": "stdout",
          "text": [
            "[('bean', 0.8290778398513794), ('yogurt', 0.8246266841888428), ('candy', 0.824151337146759), ('orange', 0.8201181888580322), ('soda', 0.8189957141876221)]\n"
          ]
        }
      ]
    },
    {
      "cell_type": "code",
      "source": [
        "# printing odd one out\n",
        "print(wv.doesnt_match([\"apple\",\"mango\",\"strawberry\",\"aeroplane\", \"orange\"]))"
      ],
      "metadata": {
        "colab": {
          "base_uri": "https://localhost:8080/"
        },
        "id": "yTTDQV5AnsBM",
        "outputId": "d4c57682-b801-479a-9ba3-2adb38a6cba1"
      },
      "execution_count": 54,
      "outputs": [
        {
          "output_type": "stream",
          "name": "stdout",
          "text": [
            "aeroplane\n"
          ]
        }
      ]
    },
    {
      "cell_type": "markdown",
      "source": [
        "Semantic regularities captured in word embeddings"
      ],
      "metadata": {
        "id": "gAZJLNI5rscf"
      }
    },
    {
      "cell_type": "code",
      "source": [
        "print(wv.most_similar(positive=[\"woman\", \"king\"], negative = [\"man\"])[:3])"
      ],
      "metadata": {
        "colab": {
          "base_uri": "https://localhost:8080/"
        },
        "id": "6pTSIvW_nsDn",
        "outputId": "a53a83e4-6074-4663-d249-b13b4cb26c5e"
      },
      "execution_count": 60,
      "outputs": [
        {
          "output_type": "stream",
          "name": "stdout",
          "text": [
            "[('prince', 0.759779691696167), ('stone', 0.7595877051353455), ('queen', 0.754626989364624)]\n"
          ]
        }
      ]
    },
    {
      "cell_type": "code",
      "source": [
        "print(wv.most_similar(positive=[\"woman\", \"king\"])[:3])"
      ],
      "metadata": {
        "colab": {
          "base_uri": "https://localhost:8080/"
        },
        "id": "t4oTO3jWnsGw",
        "outputId": "7fa6aff8-2d90-4988-b306-afc37fd06c46"
      },
      "execution_count": 62,
      "outputs": [
        {
          "output_type": "stream",
          "name": "stdout",
          "text": [
            "[('guy', 0.8665385246276855), ('called', 0.8582760691642761), ('mother', 0.8502708673477173)]\n"
          ]
        }
      ]
    },
    {
      "cell_type": "markdown",
      "source": [
        "# Visualizing Word_Vector"
      ],
      "metadata": {
        "id": "fIrHZec8ssls"
      }
    },
    {
      "cell_type": "code",
      "source": [
        "words = [\"one\",\"two\",\"man\",\"woman\",\"aeroplane\"]"
      ],
      "metadata": {
        "id": "jFD_ygLZnsI5"
      },
      "execution_count": 63,
      "outputs": []
    },
    {
      "cell_type": "code",
      "source": [
        "sample_vectors = np.array([wv[word] for word in words])\n",
        "from sklearn.decomposition import PCA          # we use PCA as dimesionality reduction technique\n",
        "pca = PCA(n_components=2)      # we reduce 50 dimension to only 2\n",
        "result = pca.fit_transform(sample_vectors)\n",
        "result"
      ],
      "metadata": {
        "colab": {
          "base_uri": "https://localhost:8080/"
        },
        "id": "fDrY-5wKnsMz",
        "outputId": "92a5bcc0-3f3e-4f18-b696-5375ba1de8a8"
      },
      "execution_count": 65,
      "outputs": [
        {
          "output_type": "execute_result",
          "data": {
            "text/plain": [
              "array([[-1.1628251, -1.3557196],\n",
              "       [-0.8838202, -2.2140431],\n",
              "       [-1.8871272,  2.5572867],\n",
              "       [-0.7448811,  0.6350797],\n",
              "       [ 4.6786537,  0.3773958]], dtype=float32)"
            ]
          },
          "metadata": {},
          "execution_count": 65
        }
      ]
    },
    {
      "cell_type": "code",
      "source": [
        "plt.figure(figsize=(12,12))\n",
        "plt.scatter(result[:,0], result[:,1])\n",
        "for i, word in enumerate(words):\n",
        "    plt.annotate(word, xy=(result[i, 0], result[i, 1]))\n",
        "plt.show()"
      ],
      "metadata": {
        "colab": {
          "base_uri": "https://localhost:8080/",
          "height": 700
        },
        "id": "XNaEF3oNihnB",
        "outputId": "e9445450-0e7b-410b-c69c-3aa25efa74b4"
      },
      "execution_count": 69,
      "outputs": [
        {
          "output_type": "display_data",
          "data": {
            "text/plain": [
              "<Figure size 864x864 with 1 Axes>"
            ],
            "image/png": "[encoded data removed]"
          },
          "metadata": {
            "needs_background": "light"
          }
        }
      ]
    },
    {
      "cell_type": "markdown",
      "source": [
        "Here, we can see that even in 2 dimenion, vector_represenation has similar semantic in respect to the real real-world scenerio."
      ],
      "metadata": {
        "id": "OTCgg7-6vDJ6"
      }
    },
    {
      "cell_type": "markdown",
      "source": [
        "# Building Classification Models using this vector representation model"
      ],
      "metadata": {
        "id": "WM3L1HHQvsSN"
      }
    },
    {
      "cell_type": "code",
      "execution_count": 79,
      "metadata": {
        "id": "EKTG4lFkU511"
      },
      "outputs": [],
      "source": [
        "df = pd.read_csv(\"/content/train.csv\")"
      ]
    },
    {
      "cell_type": "code",
      "execution_count": 81,
      "metadata": {
        "id": "whKbg-1eU6AP"
      },
      "outputs": [],
      "source": [
        "df = df[[\"comment_text\", \"toxic\"]]"
      ]
    },
    {
      "cell_type": "code",
      "execution_count": 82,
      "metadata": {
        "colab": {
          "base_uri": "https://localhost:8080/",
          "height": 143
        },
        "id": "H5ygOkEEU6JD",
        "outputId": "90106462-39d0-49a9-b6de-d1d82dc80ff2"
      },
      "outputs": [
        {
          "output_type": "execute_result",
          "data": {
            "text/plain": [
              "                                        comment_text  toxic\n",
              "0  explanation why the edits made under my userna...    0.0\n",
              "1  d aww  he matches this background colour i m s...    0.0\n",
              "2  hey man  i m really not trying to edit war  it...    0.0"
            ],
            "text/html": [
              "\n",
              "  <div id=\"df-4073b31e-4445-4636-944e-fa4bb714a88c\">\n",
              "    <div class=\"colab-df-container\">\n",
              "      <div>\n",
              "<style scoped>\n",
              "    .dataframe tbody tr th:only-of-type {\n",
              "        vertical-align: middle;\n",
              "    }\n",
              "\n",
              "    .dataframe tbody tr th {\n",
              "        vertical-align: top;\n",
              "    }\n",
              "\n",
              "    .dataframe thead th {\n",
              "        text-align: right;\n",
              "    }\n",
              "</style>\n",
              "<table border=\"1\" class=\"dataframe\">\n",
              "  <thead>\n",
              "    <tr style=\"text-align: right;\">\n",
              "      <th></th>\n",
              "      <th>comment_text</th>\n",
              "      <th>toxic</th>\n",
              "    </tr>\n",
              "  </thead>\n",
              "  <tbody>\n",
              "    <tr>\n",
              "      <th>0</th>\n",
              "      <td>explanation why the edits made under my userna...</td>\n",
              "      <td>0.0</td>\n",
              "    </tr>\n",
              "    <tr>\n",
              "      <th>1</th>\n",
              "      <td>d aww  he matches this background colour i m s...</td>\n",
              "      <td>0.0</td>\n",
              "    </tr>\n",
              "    <tr>\n",
              "      <th>2</th>\n",
              "      <td>hey man  i m really not trying to edit war  it...</td>\n",
              "      <td>0.0</td>\n",
              "    </tr>\n",
              "  </tbody>\n",
              "</table>\n",
              "</div>\n",
              "      <button class=\"colab-df-convert\" onclick=\"convertToInteractive('df-4073b31e-4445-4636-944e-fa4bb714a88c')\"\n",
              "              title=\"Convert this dataframe to an interactive table.\"\n",
              "              style=\"display:none;\">\n",
              "        \n",
              "  <svg xmlns=\"http://www.w3.org/2000/svg\" height=\"24px\"viewBox=\"0 0 24 24\"\n",
              "       width=\"24px\">\n",
              "    <path d=\"M0 0h24v24H0V0z\" fill=\"none\"/>\n",
              "    <path d=\"M18.56 5.44l.94 2.06.94-2.06 2.06-.94-2.06-.94-.94-2.06-.94 2.06-2.06.94zm-11 1L8.5 8.5l.94-2.06 2.06-.94-2.06-.94L8.5 2.5l-.94 2.06-2.06.94zm10 10l.94 2.06.94-2.06 2.06-.94-2.06-.94-.94-2.06-.94 2.06-2.06.94z\"/><path d=\"M17.41 7.96l-1.37-1.37c-.4-.4-.92-.59-1.43-.59-.52 0-1.04.2-1.43.59L10.3 9.45l-7.72 7.72c-.78.78-.78 2.05 0 2.83L4 21.41c.39.39.9.59 1.41.59.51 0 1.02-.2 1.41-.59l7.78-7.78 2.81-2.81c.8-.78.8-2.07 0-2.86zM5.41 20L4 18.59l7.72-7.72 1.47 1.35L5.41 20z\"/>\n",
              "  </svg>\n",
              "      </button>\n",
              "      \n",
              "  <style>\n",
              "    .colab-df-container {\n",
              "      display:flex;\n",
              "      flex-wrap:wrap;\n",
              "      gap: 12px;\n",
              "    }\n",
              "\n",
              "    .colab-df-convert {\n",
              "      background-color: #E8F0FE;\n",
              "      border: none;\n",
              "      border-radius: 50%;\n",
              "      cursor: pointer;\n",
              "      display: none;\n",
              "      fill: #1967D2;\n",
              "      height: 32px;\n",
              "      padding: 0 0 0 0;\n",
              "      width: 32px;\n",
              "    }\n",
              "\n",
              "    .colab-df-convert:hover {\n",
              "      background-color: #E2EBFA;\n",
              "      box-shadow: 0px 1px 2px rgba(60, 64, 67, 0.3), 0px 1px 3px 1px rgba(60, 64, 67, 0.15);\n",
              "      fill: #174EA6;\n",
              "    }\n",
              "\n",
              "    [theme=dark] .colab-df-convert {\n",
              "      background-color: #3B4455;\n",
              "      fill: #D2E3FC;\n",
              "    }\n",
              "\n",
              "    [theme=dark] .colab-df-convert:hover {\n",
              "      background-color: #434B5C;\n",
              "      box-shadow: 0px 1px 3px 1px rgba(0, 0, 0, 0.15);\n",
              "      filter: drop-shadow(0px 1px 2px rgba(0, 0, 0, 0.3));\n",
              "      fill: #FFFFFF;\n",
              "    }\n",
              "  </style>\n",
              "\n",
              "      <script>\n",
              "        const buttonEl =\n",
              "          document.querySelector('#df-4073b31e-4445-4636-944e-fa4bb714a88c button.colab-df-convert');\n",
              "        buttonEl.style.display =\n",
              "          google.colab.kernel.accessAllowed ? 'block' : 'none';\n",
              "\n",
              "        async function convertToInteractive(key) {\n",
              "          const element = document.querySelector('#df-4073b31e-4445-4636-944e-fa4bb714a88c');\n",
              "          const dataTable =\n",
              "            await google.colab.kernel.invokeFunction('convertToInteractive',\n",
              "                                                     [key], {});\n",
              "          if (!dataTable) return;\n",
              "\n",
              "          const docLinkHtml = 'Like what you see? Visit the ' +\n",
              "            '<a target=\"_blank\" href=https://colab.research.google.com/notebooks/data_table.ipynb>data table notebook</a>'\n",
              "            + ' to learn more about interactive tables.';\n",
              "          element.innerHTML = '';\n",
              "          dataTable['output_type'] = 'display_data';\n",
              "          await google.colab.output.renderOutput(dataTable, element);\n",
              "          const docLink = document.createElement('div');\n",
              "          docLink.innerHTML = docLinkHtml;\n",
              "          element.appendChild(docLink);\n",
              "        }\n",
              "      </script>\n",
              "    </div>\n",
              "  </div>\n",
              "  "
            ]
          },
          "metadata": {},
          "execution_count": 82
        }
      ],
      "source": [
        "df.head(3)"
      ]
    },
    {
      "cell_type": "markdown",
      "source": [
        "**Using Avaerage approach**\n",
        "\n",
        "* because lengths of our sentences may vary\n",
        "* all the sentence should have same length"
      ],
      "metadata": {
        "id": "gH-cKX5FwZAv"
      }
    },
    {
      "cell_type": "code",
      "execution_count": 90,
      "metadata": {
        "id": "rW0K1JjSe6FP"
      },
      "outputs": [],
      "source": [
        "def sent_vec(sent):\n",
        "  vector_size = wv.vector_size # attribute of wv\n",
        "  wv_res = np.zeros(vector_size) # 300 dimensional vetor of zeros\n",
        "  #print(wv_res)\n",
        "  ctr = 1\n",
        "  for w in sent:            # for whatever tokens we have\n",
        "    if w in wv:             # checking if our work is present in word2vec \n",
        "      ctr += 1\n",
        "      wv_res += wv[w]       # we add vector_representation to zero vector\n",
        "# We will have all the vectors associated with each word of the sentence in \"wv_res\"\n",
        "  \n",
        "  wv_res = wv_res/ctr # we divide the \"wv_res\" by number of words\n",
        "  return wv_res\n"
      ]
    },
    {
      "cell_type": "markdown",
      "source": [
        "*Filtering stop_words and punctuations*"
      ],
      "metadata": {
        "id": "thGifI6z1jwi"
      }
    },
    {
      "cell_type": "code",
      "execution_count": 88,
      "metadata": {
        "id": "ra4j9g-Ce6Hm"
      },
      "outputs": [],
      "source": [
        "# creating our tokenizer function\n",
        "def spacy_tokenizer(sentence):\n",
        "  # Creating our token object, which is used to create documents with linguistic annotations\n",
        "  doc = nlp(sentence)\n",
        "\n",
        "  \n",
        "\n",
        "  # print(doc)\n",
        "  #print(type(doc))\n",
        "\n",
        "  # Lemmatizing each token and converting each token into lowercase\n",
        "  my_tokens = [word.lemma_.lower().strip() for word in doc]\n",
        "\n",
        "  #print(my_tokens)\n",
        "\n",
        "  # removing stop words\n",
        "  mytokens = [word for word in my_tokens if word not in stop_words and word not in punctuations]\n",
        "\n",
        "  #return preprocessed list of tokens\n",
        "  return mytokens\n"
      ]
    },
    {
      "cell_type": "code",
      "execution_count": 91,
      "metadata": {
        "id": "ILizll3Ee6KL",
        "colab": {
          "base_uri": "https://localhost:8080/"
        },
        "outputId": "10622dd6-d9ce-4d55-8d89-3f07322ff43a"
      },
      "outputs": [
        {
          "output_type": "execute_result",
          "data": {
            "text/plain": [
              "array([ 0.1716515 ,  0.16753563, -0.01039983,  0.02757831, -0.13367833,\n",
              "        0.00745569, -0.53313562,  0.10974294, -0.0982745 ,  0.23556937,\n",
              "       -0.03320612, -0.07586563, -3.22591254,  0.06404871, -0.08342481,\n",
              "        0.0164875 , -0.22489937, -0.08447498, -0.283556  ,  0.78138812,\n",
              "        0.12966144, -0.23691812,  0.23898381,  0.24343257,  0.02304125,\n",
              "       -1.58985562, -0.1986195 ,  0.04019406,  0.45617956,  0.59941   ,\n",
              "        0.01801152, -0.20256938,  0.04501432,  0.0276285 ,  0.7671832 ,\n",
              "        0.39083305, -0.27694175, -0.32127313, -0.57080013,  0.3386555 ,\n",
              "       -2.35049379,  0.14863913,  0.37737337, -0.13216301,  0.12096563,\n",
              "        0.07192838, -0.00733538, -0.15668981,  0.25775751, -0.74855582])"
            ]
          },
          "metadata": {},
          "execution_count": 91
        }
      ],
      "source": [
        "sent_vec(\"what a lovely dat!\")"
      ]
    },
    {
      "cell_type": "markdown",
      "source": [
        "Initially we declared everything as zeros and then we modifed with the average of all the word_vectors inside that particular sentence."
      ],
      "metadata": {
        "id": "qfHEYNRs2B_j"
      }
    },
    {
      "cell_type": "code",
      "execution_count": 75,
      "metadata": {
        "id": "GGvYSBaSe6Ml",
        "colab": {
          "base_uri": "https://localhost:8080/"
        },
        "outputId": "7687e65b-5895-4cf1-d3f2-84e608825fa6"
      },
      "outputs": [
        {
          "output_type": "stream",
          "name": "stdout",
          "text": [
            "{'its', 'made', 'my', 'often', 'down', '‘re', 'move', 'been', 'mine', 'various', 'our', 'via', 'up', 'someone', 'enough', 'with', 'doing', 'give', 'seemed', 'have', 'indeed', 'whither', 'off', 'even', 'together', '’ve', 'everything', 'put', 'see', 'any', 'anyhow', 'am', 'whether', 'may', '‘d', 'forty', 'so', 'serious', 'around', 'next', 'meanwhile', 'least', 'some', 'me', 'cannot', 'those', 'using', 'amongst', 'i', 'neither', 'former', 'many', 'such', 'already', 'him', 'is', '‘s', 'therein', 'always', 'eleven', 'must', 'take', 'full', 'you', \"'ve\", 'hereupon', 'although', 'six', \"'s\", 'almost', 'nowhere', 'was', 'perhaps', 'seems', 'besides', 'mostly', 'sixty', 'his', 'side', 'after', 'fifteen', 'them', 'whose', 'along', 'formerly', 'might', 'because', 'below', 'really', 'thence', 'throughout', 'will', 'herself', 'do', 'unless', 'whom', 'nor', 'seeming', 'others', 'us', 'only', 'get', 'thereafter', 'more', 'everyone', 'make', 'does', \"n't\", 'anyway', 'but', 'rather', 'themselves', \"'d\", 'which', 'through', 'well', \"'ll\", 'she', 'what', 'over', 'though', 'latter', 'by', '’re', 'something', 'empty', \"'m\", 'anywhere', '‘ve', 'ca', 'it', 'since', 'no', 'few', 'else', 'therefore', 'beyond', 'please', 'who', 'one', '’ll', 'somehow', 'could', 'once', 'within', 'are', 'hence', 'also', 'had', 'nine', 'and', 'where', 'whoever', 'nothing', 'amount', 'behind', 'anyone', 'for', 'without', 'as', 'towards', 'all', 'yourselves', 'a', 'thus', 'per', 'toward', 'less', 'this', 'before', 'latterly', 'of', 'beforehand', 'last', 'wherein', 'hereby', 'regarding', 'become', 'five', 'just', 'top', 'sometime', 'ours', 'yours', 'back', 'into', 'these', 'fifty', 'used', 'her', 'if', 'twenty', 'each', 'part', 'first', 'becomes', 'upon', '‘m', 'anything', 'being', 'whence', 'however', 'whatever', 'nevertheless', 'can', 'whole', 'itself', 're', 'third', 'should', 'three', 'other', 'your', 'out', 'would', 'except', 'thereupon', 'becoming', 'while', 'across', 'why', 'wherever', 'elsewhere', 'herein', 'in', 'most', 'above', 'n’t', 'be', 'yourself', 'much', 'two', 'then', \"'re\", 'eight', 'yet', 'until', 'noone', 'front', 'several', '’m', 'same', 'hers', 'has', 'never', 'ourselves', 'either', 'both', 'n‘t', 'whereby', 'from', 'sometimes', 'another', 'still', 'did', 'here', 'about', 'under', 'whereupon', 'afterwards', 'how', 'none', 'an', 'they', 'say', 'show', 'hereafter', 'twelve', 'bottom', '’s', 'everywhere', 'four', 'during', 'there', 'further', 'the', 'that', 'seem', 'call', 'quite', 'ever', 'he', 'whereafter', 'against', 'than', 'hundred', 'whenever', 'ten', 'became', 'we', 'now', 'too', 'alone', 'thereby', 'among', 'name', 'again', 'their', '‘ll', 'otherwise', 'or', 'himself', 'myself', 'whereas', 'onto', 'when', 'somewhere', 'were', 'nobody', 'every', 'moreover', 'keep', 'between', 'very', 'due', 'at', 'done', 'own', 'to', 'beside', 'namely', 'not', 'thru', 'on', '’d', 'go'}\n"
          ]
        }
      ],
      "source": [
        "# our stop_words list from spacy\n",
        "nlp = spacy.load(\"en_core_web_sm\")\n",
        "stop_words = nlp.Defaults.stop_words\n",
        "print(stop_words)"
      ]
    },
    {
      "cell_type": "code",
      "execution_count": 77,
      "metadata": {
        "id": "XiOTE1_be6QC",
        "colab": {
          "base_uri": "https://localhost:8080/"
        },
        "outputId": "39cb4877-9893-47ea-8f16-36f19f80786d"
      },
      "outputs": [
        {
          "output_type": "stream",
          "name": "stdout",
          "text": [
            "!\"#$%&'()*+,-./:;<=>?@[\\]^_`{|}~\n"
          ]
        }
      ],
      "source": [
        "# Similarly for the punctuations from spacy\n",
        "punctuations = string.punctuation\n",
        "print(punctuations)"
      ]
    },
    {
      "cell_type": "code",
      "execution_count": 83,
      "metadata": {
        "id": "Et6o14dve6TN",
        "colab": {
          "base_uri": "https://localhost:8080/",
          "height": 143
        },
        "outputId": "069276e6-9f76-46c7-9e3d-70eb922f7b7a"
      },
      "outputs": [
        {
          "output_type": "execute_result",
          "data": {
            "text/plain": [
              "                                        comment_text  toxic\n",
              "0  explanation why the edits made under my userna...    0.0\n",
              "1  d aww  he matches this background colour i m s...    0.0\n",
              "2  hey man  i m really not trying to edit war  it...    0.0"
            ],
            "text/html": [
              "\n",
              "  <div id=\"df-6db491e5-a783-487a-903f-d89a02283eab\">\n",
              "    <div class=\"colab-df-container\">\n",
              "      <div>\n",
              "<style scoped>\n",
              "    .dataframe tbody tr th:only-of-type {\n",
              "        vertical-align: middle;\n",
              "    }\n",
              "\n",
              "    .dataframe tbody tr th {\n",
              "        vertical-align: top;\n",
              "    }\n",
              "\n",
              "    .dataframe thead th {\n",
              "        text-align: right;\n",
              "    }\n",
              "</style>\n",
              "<table border=\"1\" class=\"dataframe\">\n",
              "  <thead>\n",
              "    <tr style=\"text-align: right;\">\n",
              "      <th></th>\n",
              "      <th>comment_text</th>\n",
              "      <th>toxic</th>\n",
              "    </tr>\n",
              "  </thead>\n",
              "  <tbody>\n",
              "    <tr>\n",
              "      <th>0</th>\n",
              "      <td>explanation why the edits made under my userna...</td>\n",
              "      <td>0.0</td>\n",
              "    </tr>\n",
              "    <tr>\n",
              "      <th>1</th>\n",
              "      <td>d aww  he matches this background colour i m s...</td>\n",
              "      <td>0.0</td>\n",
              "    </tr>\n",
              "    <tr>\n",
              "      <th>2</th>\n",
              "      <td>hey man  i m really not trying to edit war  it...</td>\n",
              "      <td>0.0</td>\n",
              "    </tr>\n",
              "  </tbody>\n",
              "</table>\n",
              "</div>\n",
              "      <button class=\"colab-df-convert\" onclick=\"convertToInteractive('df-6db491e5-a783-487a-903f-d89a02283eab')\"\n",
              "              title=\"Convert this dataframe to an interactive table.\"\n",
              "              style=\"display:none;\">\n",
              "        \n",
              "  <svg xmlns=\"http://www.w3.org/2000/svg\" height=\"24px\"viewBox=\"0 0 24 24\"\n",
              "       width=\"24px\">\n",
              "    <path d=\"M0 0h24v24H0V0z\" fill=\"none\"/>\n",
              "    <path d=\"M18.56 5.44l.94 2.06.94-2.06 2.06-.94-2.06-.94-.94-2.06-.94 2.06-2.06.94zm-11 1L8.5 8.5l.94-2.06 2.06-.94-2.06-.94L8.5 2.5l-.94 2.06-2.06.94zm10 10l.94 2.06.94-2.06 2.06-.94-2.06-.94-.94-2.06-.94 2.06-2.06.94z\"/><path d=\"M17.41 7.96l-1.37-1.37c-.4-.4-.92-.59-1.43-.59-.52 0-1.04.2-1.43.59L10.3 9.45l-7.72 7.72c-.78.78-.78 2.05 0 2.83L4 21.41c.39.39.9.59 1.41.59.51 0 1.02-.2 1.41-.59l7.78-7.78 2.81-2.81c.8-.78.8-2.07 0-2.86zM5.41 20L4 18.59l7.72-7.72 1.47 1.35L5.41 20z\"/>\n",
              "  </svg>\n",
              "      </button>\n",
              "      \n",
              "  <style>\n",
              "    .colab-df-container {\n",
              "      display:flex;\n",
              "      flex-wrap:wrap;\n",
              "      gap: 12px;\n",
              "    }\n",
              "\n",
              "    .colab-df-convert {\n",
              "      background-color: #E8F0FE;\n",
              "      border: none;\n",
              "      border-radius: 50%;\n",
              "      cursor: pointer;\n",
              "      display: none;\n",
              "      fill: #1967D2;\n",
              "      height: 32px;\n",
              "      padding: 0 0 0 0;\n",
              "      width: 32px;\n",
              "    }\n",
              "\n",
              "    .colab-df-convert:hover {\n",
              "      background-color: #E2EBFA;\n",
              "      box-shadow: 0px 1px 2px rgba(60, 64, 67, 0.3), 0px 1px 3px 1px rgba(60, 64, 67, 0.15);\n",
              "      fill: #174EA6;\n",
              "    }\n",
              "\n",
              "    [theme=dark] .colab-df-convert {\n",
              "      background-color: #3B4455;\n",
              "      fill: #D2E3FC;\n",
              "    }\n",
              "\n",
              "    [theme=dark] .colab-df-convert:hover {\n",
              "      background-color: #434B5C;\n",
              "      box-shadow: 0px 1px 3px 1px rgba(0, 0, 0, 0.15);\n",
              "      filter: drop-shadow(0px 1px 2px rgba(0, 0, 0, 0.3));\n",
              "      fill: #FFFFFF;\n",
              "    }\n",
              "  </style>\n",
              "\n",
              "      <script>\n",
              "        const buttonEl =\n",
              "          document.querySelector('#df-6db491e5-a783-487a-903f-d89a02283eab button.colab-df-convert');\n",
              "        buttonEl.style.display =\n",
              "          google.colab.kernel.accessAllowed ? 'block' : 'none';\n",
              "\n",
              "        async function convertToInteractive(key) {\n",
              "          const element = document.querySelector('#df-6db491e5-a783-487a-903f-d89a02283eab');\n",
              "          const dataTable =\n",
              "            await google.colab.kernel.invokeFunction('convertToInteractive',\n",
              "                                                     [key], {});\n",
              "          if (!dataTable) return;\n",
              "\n",
              "          const docLinkHtml = 'Like what you see? Visit the ' +\n",
              "            '<a target=\"_blank\" href=https://colab.research.google.com/notebooks/data_table.ipynb>data table notebook</a>'\n",
              "            + ' to learn more about interactive tables.';\n",
              "          element.innerHTML = '';\n",
              "          dataTable['output_type'] = 'display_data';\n",
              "          await google.colab.output.renderOutput(dataTable, element);\n",
              "          const docLink = document.createElement('div');\n",
              "          docLink.innerHTML = docLinkHtml;\n",
              "          element.appendChild(docLink);\n",
              "        }\n",
              "      </script>\n",
              "    </div>\n",
              "  </div>\n",
              "  "
            ]
          },
          "metadata": {},
          "execution_count": 83
        }
      ],
      "source": [
        "df.head(3)"
      ]
    },
    {
      "cell_type": "markdown",
      "source": [
        "#### Lets tokenize our comment_text\n",
        "#### We will get list of words insted of a big string\n",
        "#### We will also filter stop_words and punctuations\n",
        "\n",
        "* lets take the column and apply the function we want to apply\n",
        "* and return in a new column \"tokens\""
      ],
      "metadata": {
        "id": "NA6ZJB5j33bG"
      }
    },
    {
      "cell_type": "code",
      "execution_count": 84,
      "metadata": {
        "id": "Loq3JsR_e6ap"
      },
      "outputs": [],
      "source": [
        "df[\"tokens\"] = df[\"comment_text\"].apply(spacy_tokenizer)"
      ]
    },
    {
      "cell_type": "code",
      "execution_count": 85,
      "metadata": {
        "id": "4RxBbDMye6dm",
        "colab": {
          "base_uri": "https://localhost:8080/",
          "height": 206
        },
        "outputId": "f7768f86-a9dd-48d2-91af-44f38a92f125"
      },
      "outputs": [
        {
          "output_type": "execute_result",
          "data": {
            "text/plain": [
              "                                        comment_text  toxic  \\\n",
              "0  explanation why the edits made under my userna...    0.0   \n",
              "1  d aww  he matches this background colour i m s...    0.0   \n",
              "2  hey man  i m really not trying to edit war  it...    0.0   \n",
              "3    more i can t make any real suggestions on im...    0.0   \n",
              "4  you  sir  are my hero  any chance you remember...    0.0   \n",
              "\n",
              "                                              tokens  \n",
              "0  [explanation, edit, username, hardcore, metall...  \n",
              "1  [d, aww, match, background, colour, m, seeming...  \n",
              "2  [hey, man, m, try, edit, war, s, guy, constant...  \n",
              "3  [t, real, suggestion, improvement, wonder, sec...  \n",
              "4             [sir, hero, chance, remember, page, s]  "
            ],
            "text/html": [
              "\n",
              "  <div id=\"df-6e289d01-46c9-45df-9c60-47dc61aeaeea\">\n",
              "    <div class=\"colab-df-container\">\n",
              "      <div>\n",
              "<style scoped>\n",
              "    .dataframe tbody tr th:only-of-type {\n",
              "        vertical-align: middle;\n",
              "    }\n",
              "\n",
              "    .dataframe tbody tr th {\n",
              "        vertical-align: top;\n",
              "    }\n",
              "\n",
              "    .dataframe thead th {\n",
              "        text-align: right;\n",
              "    }\n",
              "</style>\n",
              "<table border=\"1\" class=\"dataframe\">\n",
              "  <thead>\n",
              "    <tr style=\"text-align: right;\">\n",
              "      <th></th>\n",
              "      <th>comment_text</th>\n",
              "      <th>toxic</th>\n",
              "      <th>tokens</th>\n",
              "    </tr>\n",
              "  </thead>\n",
              "  <tbody>\n",
              "    <tr>\n",
              "      <th>0</th>\n",
              "      <td>explanation why the edits made under my userna...</td>\n",
              "      <td>0.0</td>\n",
              "      <td>[explanation, edit, username, hardcore, metall...</td>\n",
              "    </tr>\n",
              "    <tr>\n",
              "      <th>1</th>\n",
              "      <td>d aww  he matches this background colour i m s...</td>\n",
              "      <td>0.0</td>\n",
              "      <td>[d, aww, match, background, colour, m, seeming...</td>\n",
              "    </tr>\n",
              "    <tr>\n",
              "      <th>2</th>\n",
              "      <td>hey man  i m really not trying to edit war  it...</td>\n",
              "      <td>0.0</td>\n",
              "      <td>[hey, man, m, try, edit, war, s, guy, constant...</td>\n",
              "    </tr>\n",
              "    <tr>\n",
              "      <th>3</th>\n",
              "      <td>more i can t make any real suggestions on im...</td>\n",
              "      <td>0.0</td>\n",
              "      <td>[t, real, suggestion, improvement, wonder, sec...</td>\n",
              "    </tr>\n",
              "    <tr>\n",
              "      <th>4</th>\n",
              "      <td>you  sir  are my hero  any chance you remember...</td>\n",
              "      <td>0.0</td>\n",
              "      <td>[sir, hero, chance, remember, page, s]</td>\n",
              "    </tr>\n",
              "  </tbody>\n",
              "</table>\n",
              "</div>\n",
              "      <button class=\"colab-df-convert\" onclick=\"convertToInteractive('df-6e289d01-46c9-45df-9c60-47dc61aeaeea')\"\n",
              "              title=\"Convert this dataframe to an interactive table.\"\n",
              "              style=\"display:none;\">\n",
              "        \n",
              "  <svg xmlns=\"http://www.w3.org/2000/svg\" height=\"24px\"viewBox=\"0 0 24 24\"\n",
              "       width=\"24px\">\n",
              "    <path d=\"M0 0h24v24H0V0z\" fill=\"none\"/>\n",
              "    <path d=\"M18.56 5.44l.94 2.06.94-2.06 2.06-.94-2.06-.94-.94-2.06-.94 2.06-2.06.94zm-11 1L8.5 8.5l.94-2.06 2.06-.94-2.06-.94L8.5 2.5l-.94 2.06-2.06.94zm10 10l.94 2.06.94-2.06 2.06-.94-2.06-.94-.94-2.06-.94 2.06-2.06.94z\"/><path d=\"M17.41 7.96l-1.37-1.37c-.4-.4-.92-.59-1.43-.59-.52 0-1.04.2-1.43.59L10.3 9.45l-7.72 7.72c-.78.78-.78 2.05 0 2.83L4 21.41c.39.39.9.59 1.41.59.51 0 1.02-.2 1.41-.59l7.78-7.78 2.81-2.81c.8-.78.8-2.07 0-2.86zM5.41 20L4 18.59l7.72-7.72 1.47 1.35L5.41 20z\"/>\n",
              "  </svg>\n",
              "      </button>\n",
              "      \n",
              "  <style>\n",
              "    .colab-df-container {\n",
              "      display:flex;\n",
              "      flex-wrap:wrap;\n",
              "      gap: 12px;\n",
              "    }\n",
              "\n",
              "    .colab-df-convert {\n",
              "      background-color: #E8F0FE;\n",
              "      border: none;\n",
              "      border-radius: 50%;\n",
              "      cursor: pointer;\n",
              "      display: none;\n",
              "      fill: #1967D2;\n",
              "      height: 32px;\n",
              "      padding: 0 0 0 0;\n",
              "      width: 32px;\n",
              "    }\n",
              "\n",
              "    .colab-df-convert:hover {\n",
              "      background-color: #E2EBFA;\n",
              "      box-shadow: 0px 1px 2px rgba(60, 64, 67, 0.3), 0px 1px 3px 1px rgba(60, 64, 67, 0.15);\n",
              "      fill: #174EA6;\n",
              "    }\n",
              "\n",
              "    [theme=dark] .colab-df-convert {\n",
              "      background-color: #3B4455;\n",
              "      fill: #D2E3FC;\n",
              "    }\n",
              "\n",
              "    [theme=dark] .colab-df-convert:hover {\n",
              "      background-color: #434B5C;\n",
              "      box-shadow: 0px 1px 3px 1px rgba(0, 0, 0, 0.15);\n",
              "      filter: drop-shadow(0px 1px 2px rgba(0, 0, 0, 0.3));\n",
              "      fill: #FFFFFF;\n",
              "    }\n",
              "  </style>\n",
              "\n",
              "      <script>\n",
              "        const buttonEl =\n",
              "          document.querySelector('#df-6e289d01-46c9-45df-9c60-47dc61aeaeea button.colab-df-convert');\n",
              "        buttonEl.style.display =\n",
              "          google.colab.kernel.accessAllowed ? 'block' : 'none';\n",
              "\n",
              "        async function convertToInteractive(key) {\n",
              "          const element = document.querySelector('#df-6e289d01-46c9-45df-9c60-47dc61aeaeea');\n",
              "          const dataTable =\n",
              "            await google.colab.kernel.invokeFunction('convertToInteractive',\n",
              "                                                     [key], {});\n",
              "          if (!dataTable) return;\n",
              "\n",
              "          const docLinkHtml = 'Like what you see? Visit the ' +\n",
              "            '<a target=\"_blank\" href=https://colab.research.google.com/notebooks/data_table.ipynb>data table notebook</a>'\n",
              "            + ' to learn more about interactive tables.';\n",
              "          element.innerHTML = '';\n",
              "          dataTable['output_type'] = 'display_data';\n",
              "          await google.colab.output.renderOutput(dataTable, element);\n",
              "          const docLink = document.createElement('div');\n",
              "          docLink.innerHTML = docLinkHtml;\n",
              "          element.appendChild(docLink);\n",
              "        }\n",
              "      </script>\n",
              "    </div>\n",
              "  </div>\n",
              "  "
            ]
          },
          "metadata": {},
          "execution_count": 85
        }
      ],
      "source": [
        "df.head()"
      ]
    },
    {
      "cell_type": "code",
      "execution_count": 92,
      "metadata": {
        "id": "gKOmGyUNe6gX"
      },
      "outputs": [],
      "source": [
        "# preforming functions on the newly created \"tokens\"\n",
        "df[\"vec\"] = df[\"tokens\"].apply(sent_vec)"
      ]
    },
    {
      "cell_type": "code",
      "source": [
        "df.head()"
      ],
      "metadata": {
        "colab": {
          "base_uri": "https://localhost:8080/",
          "height": 206
        },
        "id": "7dQp5ePSLY5L",
        "outputId": "e910a93d-0cdc-4b3c-a27c-f64b24505a10"
      },
      "execution_count": 93,
      "outputs": [
        {
          "output_type": "execute_result",
          "data": {
            "text/plain": [
              "                                        comment_text  toxic  \\\n",
              "0  explanation why the edits made under my userna...    0.0   \n",
              "1  d aww  he matches this background colour i m s...    0.0   \n",
              "2  hey man  i m really not trying to edit war  it...    0.0   \n",
              "3    more i can t make any real suggestions on im...    0.0   \n",
              "4  you  sir  are my hero  any chance you remember...    0.0   \n",
              "\n",
              "                                              tokens  \\\n",
              "0  [explanation, edit, username, hardcore, metall...   \n",
              "1  [d, aww, match, background, colour, m, seeming...   \n",
              "2  [hey, man, m, try, edit, war, s, guy, constant...   \n",
              "3  [t, real, suggestion, improvement, wonder, sec...   \n",
              "4             [sir, hero, chance, remember, page, s]   \n",
              "\n",
              "                                                 vec  \n",
              "0  [0.03735276920577654, 0.3241229636164812, -0.3...  \n",
              "1  [0.043267224270563856, 0.0641870077412862, 0.1...  \n",
              "2  [0.3602050011130897, 0.38256326961246406, -0.2...  \n",
              "3  [0.3427878192742355, 0.21762503955202797, -0.2...  \n",
              "4  [0.22564857133797236, 0.027462863496371677, 0....  "
            ],
            "text/html": [
              "\n",
              "  <div id=\"df-eb4f7d98-c332-4a3f-ac11-778495c7bb35\">\n",
              "    <div class=\"colab-df-container\">\n",
              "      <div>\n",
              "<style scoped>\n",
              "    .dataframe tbody tr th:only-of-type {\n",
              "        vertical-align: middle;\n",
              "    }\n",
              "\n",
              "    .dataframe tbody tr th {\n",
              "        vertical-align: top;\n",
              "    }\n",
              "\n",
              "    .dataframe thead th {\n",
              "        text-align: right;\n",
              "    }\n",
              "</style>\n",
              "<table border=\"1\" class=\"dataframe\">\n",
              "  <thead>\n",
              "    <tr style=\"text-align: right;\">\n",
              "      <th></th>\n",
              "      <th>comment_text</th>\n",
              "      <th>toxic</th>\n",
              "      <th>tokens</th>\n",
              "      <th>vec</th>\n",
              "    </tr>\n",
              "  </thead>\n",
              "  <tbody>\n",
              "    <tr>\n",
              "      <th>0</th>\n",
              "      <td>explanation why the edits made under my userna...</td>\n",
              "      <td>0.0</td>\n",
              "      <td>[explanation, edit, username, hardcore, metall...</td>\n",
              "      <td>[0.03735276920577654, 0.3241229636164812, -0.3...</td>\n",
              "    </tr>\n",
              "    <tr>\n",
              "      <th>1</th>\n",
              "      <td>d aww  he matches this background colour i m s...</td>\n",
              "      <td>0.0</td>\n",
              "      <td>[d, aww, match, background, colour, m, seeming...</td>\n",
              "      <td>[0.043267224270563856, 0.0641870077412862, 0.1...</td>\n",
              "    </tr>\n",
              "    <tr>\n",
              "      <th>2</th>\n",
              "      <td>hey man  i m really not trying to edit war  it...</td>\n",
              "      <td>0.0</td>\n",
              "      <td>[hey, man, m, try, edit, war, s, guy, constant...</td>\n",
              "      <td>[0.3602050011130897, 0.38256326961246406, -0.2...</td>\n",
              "    </tr>\n",
              "    <tr>\n",
              "      <th>3</th>\n",
              "      <td>more i can t make any real suggestions on im...</td>\n",
              "      <td>0.0</td>\n",
              "      <td>[t, real, suggestion, improvement, wonder, sec...</td>\n",
              "      <td>[0.3427878192742355, 0.21762503955202797, -0.2...</td>\n",
              "    </tr>\n",
              "    <tr>\n",
              "      <th>4</th>\n",
              "      <td>you  sir  are my hero  any chance you remember...</td>\n",
              "      <td>0.0</td>\n",
              "      <td>[sir, hero, chance, remember, page, s]</td>\n",
              "      <td>[0.22564857133797236, 0.027462863496371677, 0....</td>\n",
              "    </tr>\n",
              "  </tbody>\n",
              "</table>\n",
              "</div>\n",
              "      <button class=\"colab-df-convert\" onclick=\"convertToInteractive('df-eb4f7d98-c332-4a3f-ac11-778495c7bb35')\"\n",
              "              title=\"Convert this dataframe to an interactive table.\"\n",
              "              style=\"display:none;\">\n",
              "        \n",
              "  <svg xmlns=\"http://www.w3.org/2000/svg\" height=\"24px\"viewBox=\"0 0 24 24\"\n",
              "       width=\"24px\">\n",
              "    <path d=\"M0 0h24v24H0V0z\" fill=\"none\"/>\n",
              "    <path d=\"M18.56 5.44l.94 2.06.94-2.06 2.06-.94-2.06-.94-.94-2.06-.94 2.06-2.06.94zm-11 1L8.5 8.5l.94-2.06 2.06-.94-2.06-.94L8.5 2.5l-.94 2.06-2.06.94zm10 10l.94 2.06.94-2.06 2.06-.94-2.06-.94-.94-2.06-.94 2.06-2.06.94z\"/><path d=\"M17.41 7.96l-1.37-1.37c-.4-.4-.92-.59-1.43-.59-.52 0-1.04.2-1.43.59L10.3 9.45l-7.72 7.72c-.78.78-.78 2.05 0 2.83L4 21.41c.39.39.9.59 1.41.59.51 0 1.02-.2 1.41-.59l7.78-7.78 2.81-2.81c.8-.78.8-2.07 0-2.86zM5.41 20L4 18.59l7.72-7.72 1.47 1.35L5.41 20z\"/>\n",
              "  </svg>\n",
              "      </button>\n",
              "      \n",
              "  <style>\n",
              "    .colab-df-container {\n",
              "      display:flex;\n",
              "      flex-wrap:wrap;\n",
              "      gap: 12px;\n",
              "    }\n",
              "\n",
              "    .colab-df-convert {\n",
              "      background-color: #E8F0FE;\n",
              "      border: none;\n",
              "      border-radius: 50%;\n",
              "      cursor: pointer;\n",
              "      display: none;\n",
              "      fill: #1967D2;\n",
              "      height: 32px;\n",
              "      padding: 0 0 0 0;\n",
              "      width: 32px;\n",
              "    }\n",
              "\n",
              "    .colab-df-convert:hover {\n",
              "      background-color: #E2EBFA;\n",
              "      box-shadow: 0px 1px 2px rgba(60, 64, 67, 0.3), 0px 1px 3px 1px rgba(60, 64, 67, 0.15);\n",
              "      fill: #174EA6;\n",
              "    }\n",
              "\n",
              "    [theme=dark] .colab-df-convert {\n",
              "      background-color: #3B4455;\n",
              "      fill: #D2E3FC;\n",
              "    }\n",
              "\n",
              "    [theme=dark] .colab-df-convert:hover {\n",
              "      background-color: #434B5C;\n",
              "      box-shadow: 0px 1px 3px 1px rgba(0, 0, 0, 0.15);\n",
              "      filter: drop-shadow(0px 1px 2px rgba(0, 0, 0, 0.3));\n",
              "      fill: #FFFFFF;\n",
              "    }\n",
              "  </style>\n",
              "\n",
              "      <script>\n",
              "        const buttonEl =\n",
              "          document.querySelector('#df-eb4f7d98-c332-4a3f-ac11-778495c7bb35 button.colab-df-convert');\n",
              "        buttonEl.style.display =\n",
              "          google.colab.kernel.accessAllowed ? 'block' : 'none';\n",
              "\n",
              "        async function convertToInteractive(key) {\n",
              "          const element = document.querySelector('#df-eb4f7d98-c332-4a3f-ac11-778495c7bb35');\n",
              "          const dataTable =\n",
              "            await google.colab.kernel.invokeFunction('convertToInteractive',\n",
              "                                                     [key], {});\n",
              "          if (!dataTable) return;\n",
              "\n",
              "          const docLinkHtml = 'Like what you see? Visit the ' +\n",
              "            '<a target=\"_blank\" href=https://colab.research.google.com/notebooks/data_table.ipynb>data table notebook</a>'\n",
              "            + ' to learn more about interactive tables.';\n",
              "          element.innerHTML = '';\n",
              "          dataTable['output_type'] = 'display_data';\n",
              "          await google.colab.output.renderOutput(dataTable, element);\n",
              "          const docLink = document.createElement('div');\n",
              "          docLink.innerHTML = docLinkHtml;\n",
              "          element.appendChild(docLink);\n",
              "        }\n",
              "      </script>\n",
              "    </div>\n",
              "  </div>\n",
              "  "
            ]
          },
          "metadata": {},
          "execution_count": 93
        }
      ]
    },
    {
      "cell_type": "code",
      "source": [
        "X = list(df[\"vec\"])\n",
        "y = list(df[\"toxic\"])"
      ],
      "metadata": {
        "id": "TmYMzGlRLZJq"
      },
      "execution_count": 95,
      "outputs": []
    },
    {
      "cell_type": "code",
      "source": [
        "X[0] # 50 dimensional vetor taht we will pass in our ML model"
      ],
      "metadata": {
        "colab": {
          "base_uri": "https://localhost:8080/"
        },
        "id": "Y2gALrTCLZb2",
        "outputId": "68bfbd02-1f14-47b3-f72c-0e522051444c"
      },
      "execution_count": 96,
      "outputs": [
        {
          "output_type": "execute_result",
          "data": {
            "text/plain": [
              "array([ 3.73527692e-02,  3.24122964e-01, -3.23408999e-01,  3.89057885e-02,\n",
              "        1.71783078e-01, -2.08350806e-01,  3.99181150e-01, -6.42181929e-02,\n",
              "        1.86881038e-01, -3.67877717e-02,  7.40382329e-02, -7.49710471e-02,\n",
              "       -2.46146651e+00, -2.11862848e-01, -1.31151730e-01,  3.35647294e-02,\n",
              "       -8.33865354e-02,  3.62611181e-02, -5.74150011e-02,  2.26414766e-01,\n",
              "       -1.14365191e-01, -5.55152293e-02, -2.22446504e-04, -7.46765348e-02,\n",
              "       -1.61116497e-01, -1.79177313e-01,  6.15388470e-02,  2.00854527e-01,\n",
              "       -7.39579215e-02,  1.81135459e-01,  1.43026919e-01, -4.93590386e-02,\n",
              "       -3.28437705e-02, -2.57880541e-01,  6.14261355e-01, -5.89584588e-02,\n",
              "       -6.08373843e-02, -9.90368052e-02,  5.62983493e-02, -1.41597193e-01,\n",
              "       -4.94367434e-01, -2.02395882e-03,  1.56506115e-01, -5.96953859e-02,\n",
              "       -7.98849243e-02, -1.26369500e-01, -7.46510778e-02, -3.28581720e-02,\n",
              "       -1.88991159e-02, -2.21519496e-01])"
            ]
          },
          "metadata": {},
          "execution_count": 96
        }
      ]
    },
    {
      "cell_type": "markdown",
      "source": [
        "# train_test_split"
      ],
      "metadata": {
        "id": "vy5tEeIyMVOY"
      }
    },
    {
      "cell_type": "code",
      "source": [
        "from sklearn.model_selection import train_test_split   "
      ],
      "metadata": {
        "id": "SWVodR9GMT4J"
      },
      "execution_count": 97,
      "outputs": []
    },
    {
      "cell_type": "code",
      "source": [
        "X_train, X_test, y_train, y_test = train_test_split(X, y, test_size=0.2, stratify=y)"
      ],
      "metadata": {
        "id": "ZEJUahXCMT_7"
      },
      "execution_count": 98,
      "outputs": []
    },
    {
      "cell_type": "code",
      "source": [
        "from sklearn.linear_model import LogisticRegression"
      ],
      "metadata": {
        "id": "ktmZqw2RMUB4"
      },
      "execution_count": 99,
      "outputs": []
    },
    {
      "cell_type": "code",
      "source": [
        "log_model = LogisticRegression()"
      ],
      "metadata": {
        "id": "L5zzTt-NMUFS"
      },
      "execution_count": 100,
      "outputs": []
    },
    {
      "cell_type": "code",
      "source": [
        "log_model.fit(X_train, y_train)"
      ],
      "metadata": {
        "colab": {
          "base_uri": "https://localhost:8080/",
          "height": 75
        },
        "id": "q_YDltnVMUHe",
        "outputId": "483a7d87-3c7c-455c-ea23-35f99d50fe54"
      },
      "execution_count": 101,
      "outputs": [
        {
          "output_type": "execute_result",
          "data": {
            "text/plain": [
              "LogisticRegression()"
            ],
            "text/html": [
              "<style>#sk-container-id-1 {color: black;background-color: white;}#sk-container-id-1 pre{padding: 0;}#sk-container-id-1 div.sk-toggleable {background-color: white;}#sk-container-id-1 label.sk-toggleable__label {cursor: pointer;display: block;width: 100%;margin-bottom: 0;padding: 0.3em;box-sizing: border-box;text-align: center;}#sk-container-id-1 label.sk-toggleable__label-arrow:before {content: \"▸\";float: left;margin-right: 0.25em;color: #696969;}#sk-container-id-1 label.sk-toggleable__label-arrow:hover:before {color: black;}#sk-container-id-1 div.sk-estimator:hover label.sk-toggleable__label-arrow:before {color: black;}#sk-container-id-1 div.sk-toggleable__content {max-height: 0;max-width: 0;overflow: hidden;text-align: left;background-color: #f0f8ff;}#sk-container-id-1 div.sk-toggleable__content pre {margin: 0.2em;color: black;border-radius: 0.25em;background-color: #f0f8ff;}#sk-container-id-1 input.sk-toggleable__control:checked~div.sk-toggleable__content {max-height: 200px;max-width: 100%;overflow: auto;}#sk-container-id-1 input.sk-toggleable__control:checked~label.sk-toggleable__label-arrow:before {content: \"▾\";}#sk-container-id-1 div.sk-estimator input.sk-toggleable__control:checked~label.sk-toggleable__label {background-color: #d4ebff;}#sk-container-id-1 div.sk-label input.sk-toggleable__control:checked~label.sk-toggleable__label {background-color: #d4ebff;}#sk-container-id-1 input.sk-hidden--visually {border: 0;clip: rect(1px 1px 1px 1px);clip: rect(1px, 1px, 1px, 1px);height: 1px;margin: -1px;overflow: hidden;padding: 0;position: absolute;width: 1px;}#sk-container-id-1 div.sk-estimator {font-family: monospace;background-color: #f0f8ff;border: 1px dotted black;border-radius: 0.25em;box-sizing: border-box;margin-bottom: 0.5em;}#sk-container-id-1 div.sk-estimator:hover {background-color: #d4ebff;}#sk-container-id-1 div.sk-parallel-item::after {content: \"\";width: 100%;border-bottom: 1px solid gray;flex-grow: 1;}#sk-container-id-1 div.sk-label:hover label.sk-toggleable__label {background-color: #d4ebff;}#sk-container-id-1 div.sk-serial::before {content: \"\";position: absolute;border-left: 1px solid gray;box-sizing: border-box;top: 0;bottom: 0;left: 50%;z-index: 0;}#sk-container-id-1 div.sk-serial {display: flex;flex-direction: column;align-items: center;background-color: white;padding-right: 0.2em;padding-left: 0.2em;position: relative;}#sk-container-id-1 div.sk-item {position: relative;z-index: 1;}#sk-container-id-1 div.sk-parallel {display: flex;align-items: stretch;justify-content: center;background-color: white;position: relative;}#sk-container-id-1 div.sk-item::before, #sk-container-id-1 div.sk-parallel-item::before {content: \"\";position: absolute;border-left: 1px solid gray;box-sizing: border-box;top: 0;bottom: 0;left: 50%;z-index: -1;}#sk-container-id-1 div.sk-parallel-item {display: flex;flex-direction: column;z-index: 1;position: relative;background-color: white;}#sk-container-id-1 div.sk-parallel-item:first-child::after {align-self: flex-end;width: 50%;}#sk-container-id-1 div.sk-parallel-item:last-child::after {align-self: flex-start;width: 50%;}#sk-container-id-1 div.sk-parallel-item:only-child::after {width: 0;}#sk-container-id-1 div.sk-dashed-wrapped {border: 1px dashed gray;margin: 0 0.4em 0.5em 0.4em;box-sizing: border-box;padding-bottom: 0.4em;background-color: white;}#sk-container-id-1 div.sk-label label {font-family: monospace;font-weight: bold;display: inline-block;line-height: 1.2em;}#sk-container-id-1 div.sk-label-container {text-align: center;}#sk-container-id-1 div.sk-container {/* jupyter's `normalize.less` sets `[hidden] { display: none; }` but bootstrap.min.css set `[hidden] { display: none !important; }` so we also need the `!important` here to be able to override the default hidden behavior on the sphinx rendered scikit-learn.org. See: https://github.com/scikit-learn/scikit-learn/issues/21755 */display: inline-block !important;position: relative;}#sk-container-id-1 div.sk-text-repr-fallback {display: none;}</style><div id=\"sk-container-id-1\" class=\"sk-top-container\"><div class=\"sk-text-repr-fallback\"><pre>LogisticRegression()</pre><b>In a Jupyter environment, please rerun this cell to show the HTML representation or trust the notebook. <br />On GitHub, the HTML representation is unable to render, please try loading this page with nbviewer.org.</b></div><div class=\"sk-container\" hidden><div class=\"sk-item\"><div class=\"sk-estimator sk-toggleable\"><input class=\"sk-toggleable__control sk-hidden--visually\" id=\"sk-estimator-id-1\" type=\"checkbox\" checked><label for=\"sk-estimator-id-1\" class=\"sk-toggleable__label sk-toggleable__label-arrow\">LogisticRegression</label><div class=\"sk-toggleable__content\"><pre>LogisticRegression()</pre></div></div></div></div></div>"
            ]
          },
          "metadata": {},
          "execution_count": 101
        }
      ]
    },
    {
      "cell_type": "markdown",
      "source": [
        "# Evaluation"
      ],
      "metadata": {
        "id": "fFzSW31XNDlZ"
      }
    },
    {
      "cell_type": "code",
      "source": [
        "from sklearn.metrics import classification_report"
      ],
      "metadata": {
        "id": "br0-TYm2NGwm"
      },
      "execution_count": 102,
      "outputs": []
    },
    {
      "cell_type": "code",
      "source": [
        "def report(model):\n",
        "  model.fit(X_train, y_train)\n",
        "  y_pred = model.predict(X_test)\n",
        "  print(classification_report(y_test, y_pred))"
      ],
      "metadata": {
        "id": "JS5O18eoM8Tc"
      },
      "execution_count": 103,
      "outputs": []
    },
    {
      "cell_type": "code",
      "source": [
        "report(log_model)"
      ],
      "metadata": {
        "colab": {
          "base_uri": "https://localhost:8080/"
        },
        "id": "ljwDi2zJM8WC",
        "outputId": "b40588bf-d264-4e85-9b03-832ee05599a8"
      },
      "execution_count": 104,
      "outputs": [
        {
          "output_type": "stream",
          "name": "stdout",
          "text": [
            "              precision    recall  f1-score   support\n",
            "\n",
            "         0.0       0.95      0.99      0.97     28856\n",
            "         1.0       0.81      0.55      0.66      3059\n",
            "\n",
            "    accuracy                           0.94     31915\n",
            "   macro avg       0.88      0.77      0.81     31915\n",
            "weighted avg       0.94      0.94      0.94     31915\n",
            "\n"
          ]
        }
      ]
    }
  ],
  "metadata": {
    "colab": {
      "provenance": []
    },
    "kernelspec": {
      "display_name": "Python 3",
      "name": "python3"
    },
    "language_info": {
      "name": "python"
    }
  },
  "nbformat": 4,
  "nbformat_minor": 0
}